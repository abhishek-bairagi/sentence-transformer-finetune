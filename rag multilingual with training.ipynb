{
 "cells": [
  {
   "cell_type": "code",
   "execution_count": 1,
   "id": "ae587a5a",
   "metadata": {},
   "outputs": [
    {
     "name": "stderr",
     "output_type": "stream",
     "text": [
      "/Users/abhbaira/anaconda3/lib/python3.11/site-packages/pandas/core/arrays/masked.py:60: UserWarning: Pandas requires version '1.3.6' or newer of 'bottleneck' (version '1.3.5' currently installed).\n",
      "  from pandas.core import (\n"
     ]
    }
   ],
   "source": [
    "\"\"\"\n",
    "This script contains an example how to extend an existent sentence embedding model to new languages.\n",
    "\n",
    "Given a (monolingual) teacher model you would like to extend to new languages, which is specified in the teacher_model_name\n",
    "variable. We train a multilingual student model to imitate the teacher model (variable student_model_name)\n",
    "on multiple languages.\n",
    "\n",
    "For training, you need parallel sentence data (machine translation training data). You need tab-seperated files (.tsv)\n",
    "with the first column a sentence in a language understood by the teacher model, e.g. English,\n",
    "and the further columns contain the according translations for languages you want to extend to.\n",
    "\n",
    "This scripts downloads automatically the parallel sentences corpus. This corpus contains transcripts from\n",
    "talks translated to 100+ languages. For other parallel data, see get_parallel_data_[].py scripts\n",
    "\n",
    "Further information can be found in our paper:\n",
    "Making Monolingual Sentence Embeddings Multilingual using Knowledge Distillation\n",
    "https://arxiv.org/abs/2004.09813\n",
    "\"\"\"\n",
    "#imports\n",
    "\n",
    "import logging\n",
    "import traceback\n",
    "from datetime import datetime\n",
    "\n",
    "import numpy as np\n",
    "\n",
    "from datasets import DatasetDict, load_dataset\n",
    "from sentence_transformers import LoggingHandler, SentenceTransformer\n",
    "from sentence_transformers.evaluation import (\n",
    "    EmbeddingSimilarityEvaluator,\n",
    "    MSEEvaluator,\n",
    "    SequentialEvaluator,\n",
    "    TranslationEvaluator,\n",
    ")\n",
    "from sentence_transformers.losses import MSELoss\n",
    "from sentence_transformers.trainer import SentenceTransformerTrainer\n",
    "from sentence_transformers.training_args import SentenceTransformerTrainingArguments\n",
    "\n",
    "logging.basicConfig(\n",
    "    format=\"%(asctime)s - %(message)s\", datefmt=\"%Y-%m-%d %H:%M:%S\", level=logging.INFO, handlers=[LoggingHandler()]\n",
    ")\n",
    "logger = logging.getLogger(__name__)\n"
   ]
  },
  {
   "cell_type": "code",
   "execution_count": 2,
   "id": "55442325",
   "metadata": {},
   "outputs": [],
   "source": [
    "#intitialzing  parameters\n",
    "\n",
    "# The teacher model is monolingual, we use it for English embeddings\n",
    "teacher_model_name = \"all-MiniLM-L12-v2\"\n",
    "# The student model is multilingual, we train it such that embeddings of non-English texts mimic the teacher model's English embeddings\n",
    "student_model_name = \"all-MiniLM-L6-v2\"\n",
    "\n",
    "student_max_seq_length = 128  # Student model max. lengths for inputs (number of word pieces)\n",
    "train_batch_size = 64  # Batch size for training\n",
    "inference_batch_size = 64  # Batch size at inference\n",
    "max_sentences_per_language = 500000  # Maximum number of  parallel sentences for training\n",
    "\n",
    "num_train_epochs = 5  # Train for x epochs\n",
    "num_evaluation_steps = 5000  # Evaluate performance after every xxxx steps\n",
    "\n",
    "\n",
    "# Define the language codes you would like to extend the model to\n",
    "source_languages = set([\"en\"])  # Our teacher model accepts English (en) sentences\n",
    "# We want to extend the model to these new languages. For language codes, see the header of the train file\n",
    "# target_languages = set([\"de\", \"es\", \"it\", \"fr\", \"ar\", \"tr\"])\n",
    "target_languages = set([ \"hi\"])\n",
    "\n",
    "output_dir = (\n",
    "    \"output/make-multilingual-\"\n",
    "    + \"-\".join(sorted(list(source_languages)) + sorted(list(target_languages)))\n",
    "    + \"-\"\n",
    "    + datetime.now().strftime(\"%Y-%m-%d_%H-%M-%S\")\n",
    ")\n"
   ]
  },
  {
   "cell_type": "code",
   "execution_count": 3,
   "id": "d0f35980",
   "metadata": {},
   "outputs": [
    {
     "name": "stdout",
     "output_type": "stream",
     "text": [
      "2024-07-13 02:23:44 - Use pytorch device_name: mps\n",
      "2024-07-13 02:23:44 - Load pretrained SentenceTransformer: all-MiniLM-L12-v2\n"
     ]
    },
    {
     "data": {
      "application/vnd.jupyter.widget-view+json": {
       "model_id": "f888065173b1494ab14767a3ed430ff0",
       "version_major": 2,
       "version_minor": 0
      },
      "text/plain": [
       "modules.json:   0%|          | 0.00/349 [00:00<?, ?B/s]"
      ]
     },
     "metadata": {},
     "output_type": "display_data"
    },
    {
     "data": {
      "application/vnd.jupyter.widget-view+json": {
       "model_id": "f233655294ee4cb682f2128558cb2e70",
       "version_major": 2,
       "version_minor": 0
      },
      "text/plain": [
       "config_sentence_transformers.json:   0%|          | 0.00/116 [00:00<?, ?B/s]"
      ]
     },
     "metadata": {},
     "output_type": "display_data"
    },
    {
     "data": {
      "application/vnd.jupyter.widget-view+json": {
       "model_id": "5db861a551bc4d70b8443b7ce254caac",
       "version_major": 2,
       "version_minor": 0
      },
      "text/plain": [
       "README.md:   0%|          | 0.00/10.7k [00:00<?, ?B/s]"
      ]
     },
     "metadata": {},
     "output_type": "display_data"
    },
    {
     "data": {
      "application/vnd.jupyter.widget-view+json": {
       "model_id": "cd99532f36914e07ac4570495cc6247b",
       "version_major": 2,
       "version_minor": 0
      },
      "text/plain": [
       "sentence_bert_config.json:   0%|          | 0.00/53.0 [00:00<?, ?B/s]"
      ]
     },
     "metadata": {},
     "output_type": "display_data"
    },
    {
     "data": {
      "application/vnd.jupyter.widget-view+json": {
       "model_id": "94900d6973e245ddbbe50851174e3050",
       "version_major": 2,
       "version_minor": 0
      },
      "text/plain": [
       "config.json:   0%|          | 0.00/615 [00:00<?, ?B/s]"
      ]
     },
     "metadata": {},
     "output_type": "display_data"
    },
    {
     "data": {
      "application/vnd.jupyter.widget-view+json": {
       "model_id": "cb9835fbfe77410191cb9991b6966a92",
       "version_major": 2,
       "version_minor": 0
      },
      "text/plain": [
       "model.safetensors:   0%|          | 0.00/133M [00:00<?, ?B/s]"
      ]
     },
     "metadata": {},
     "output_type": "display_data"
    },
    {
     "data": {
      "application/vnd.jupyter.widget-view+json": {
       "model_id": "e7024fdc02c4470aa06a875e0f4591e0",
       "version_major": 2,
       "version_minor": 0
      },
      "text/plain": [
       "tokenizer_config.json:   0%|          | 0.00/352 [00:00<?, ?B/s]"
      ]
     },
     "metadata": {},
     "output_type": "display_data"
    },
    {
     "data": {
      "application/vnd.jupyter.widget-view+json": {
       "model_id": "4910d8efc5254d3e9ef34d2a5bfdeb18",
       "version_major": 2,
       "version_minor": 0
      },
      "text/plain": [
       "vocab.txt:   0%|          | 0.00/232k [00:00<?, ?B/s]"
      ]
     },
     "metadata": {},
     "output_type": "display_data"
    },
    {
     "data": {
      "application/vnd.jupyter.widget-view+json": {
       "model_id": "801d4bcd4b21464697a715ba9f50b214",
       "version_major": 2,
       "version_minor": 0
      },
      "text/plain": [
       "tokenizer.json:   0%|          | 0.00/466k [00:00<?, ?B/s]"
      ]
     },
     "metadata": {},
     "output_type": "display_data"
    },
    {
     "data": {
      "application/vnd.jupyter.widget-view+json": {
       "model_id": "4e11b9b235144e68b0ce7fd2f5a0ff7f",
       "version_major": 2,
       "version_minor": 0
      },
      "text/plain": [
       "special_tokens_map.json:   0%|          | 0.00/112 [00:00<?, ?B/s]"
      ]
     },
     "metadata": {},
     "output_type": "display_data"
    },
    {
     "data": {
      "application/vnd.jupyter.widget-view+json": {
       "model_id": "2256d7bd16224f31af5b735176ac893a",
       "version_major": 2,
       "version_minor": 0
      },
      "text/plain": [
       "1_Pooling/config.json:   0%|          | 0.00/190 [00:00<?, ?B/s]"
      ]
     },
     "metadata": {},
     "output_type": "display_data"
    },
    {
     "name": "stdout",
     "output_type": "stream",
     "text": [
      "2024-07-13 02:24:20 - Teacher model: SentenceTransformer(\n",
      "  (0): Transformer({'max_seq_length': 128, 'do_lower_case': False}) with Transformer model: BertModel \n",
      "  (1): Pooling({'word_embedding_dimension': 384, 'pooling_mode_cls_token': False, 'pooling_mode_mean_tokens': True, 'pooling_mode_max_tokens': False, 'pooling_mode_mean_sqrt_len_tokens': False, 'pooling_mode_weightedmean_tokens': False, 'pooling_mode_lasttoken': False, 'include_prompt': True})\n",
      "  (2): Normalize()\n",
      ")\n",
      "2024-07-13 02:24:20 - Use pytorch device_name: mps\n",
      "2024-07-13 02:24:20 - Load pretrained SentenceTransformer: all-MiniLM-L6-v2\n",
      "2024-07-13 02:24:22 - Student model: SentenceTransformer(\n",
      "  (0): Transformer({'max_seq_length': 128, 'do_lower_case': False}) with Transformer model: BertModel \n",
      "  (1): Pooling({'word_embedding_dimension': 384, 'pooling_mode_cls_token': False, 'pooling_mode_mean_tokens': True, 'pooling_mode_max_tokens': False, 'pooling_mode_mean_sqrt_len_tokens': False, 'pooling_mode_weightedmean_tokens': False, 'pooling_mode_lasttoken': False, 'include_prompt': True})\n",
      "  (2): Normalize()\n",
      ")\n"
     ]
    }
   ],
   "source": [
    "\n",
    "# 1a. Here we define our SentenceTransformer teacher model.\n",
    "teacher_model = SentenceTransformer(teacher_model_name)\n",
    "# If we want, we can limit the maximum sequence length for the model\n",
    "# teacher_model.max_seq_length = 128\n",
    "logging.info(f\"Teacher model: {teacher_model}\")\n",
    "\n",
    "# 1b. Here we define our SentenceTransformer student model. If not already a Sentence Transformer model,\n",
    "# it will automatically create one with \"mean\" pooling.\n",
    "student_model = SentenceTransformer(student_model_name)\n",
    "# If we want, we can limit the maximum sequence length for the model\n",
    "student_model.max_seq_length = student_max_seq_length\n",
    "logging.info(f\"Student model: {student_model}\")\n",
    "\n",
    "# 2. Load the parallel sentences training dataset: https://huggingface.co/datasets?other=sentence-transformers&sort=trending&search=parallel-sentences\n",
    "# NOTE: We can also use multiple datasets if we want\n",
    "dataset_to_use = \"sentence-transformers/parallel-sentences-talks\"\n",
    "# dataset_to_use = \"sentence-transformers/parallel-sentences-europarl\"\n",
    "# dataset_to_use = \"sentence-transformers/parallel-sentences-global-voices\"\n",
    "# dataset_to_use = \"sentence-transformers/parallel-sentences-muse\"\n",
    "# dataset_to_use = \"sentence-transformers/parallel-sentences-jw300\"\n",
    "# dataset_to_use = \"sentence-transformers/parallel-sentences-news-commentary\"\n",
    "# dataset_to_use = \"sentence-transformers/parallel-sentences-opensubtitles\"\n",
    "# dataset_to_use = \"sentence-transformers/parallel-sentences-tatoeba\"\n",
    "# dataset_to_use = \"sentence-transformers/parallel-sentences-wikimatrix\"\n",
    "# dataset_to_use = \"sentence-transformers/parallel-sentences-wikititles\"\n"
   ]
  },
  {
   "cell_type": "code",
   "execution_count": 4,
   "id": "89f14b1a",
   "metadata": {},
   "outputs": [
    {
     "name": "stdout",
     "output_type": "stream",
     "text": [
      "2024-07-13 02:25:34 - DatasetDict({\n",
      "    en-hi: Dataset({\n",
      "        features: ['english', 'non_english'],\n",
      "        num_rows: 45403\n",
      "    })\n",
      "})\n"
     ]
    }
   ],
   "source": [
    "train_dataset_dict = DatasetDict()\n",
    "eval_dataset_dict = DatasetDict()\n",
    "for source_lang in source_languages:\n",
    "    for target_lang in target_languages:\n",
    "        subset = f\"{source_lang}-{target_lang}\"\n",
    "        try:\n",
    "            train_dataset = load_dataset(dataset_to_use, subset, split=\"train\")\n",
    "            if len(train_dataset) > max_sentences_per_language:\n",
    "                train_dataset = train_dataset.select(range(max_sentences_per_language))\n",
    "        except Exception as exc:\n",
    "            logging.error(f\"Could not load dataset {dataset_to_use}/{source_lang}-{target_lang}: {exc}\")\n",
    "            continue\n",
    "\n",
    "        try:\n",
    "            eval_dataset = load_dataset(dataset_to_use, subset, split=\"dev\")\n",
    "            if len(eval_dataset) > 1000:\n",
    "                eval_dataset = eval_dataset.select(range(1000))\n",
    "        except Exception:\n",
    "            logging.info(\n",
    "                f\"Could not load dataset {dataset_to_use}/{source_lang}-{target_lang} dev split, splitting 1k samples from train\"\n",
    "            )\n",
    "            dataset = train_dataset.train_test_split(test_size=1000, shuffle=True)\n",
    "            train_dataset = dataset[\"train\"]\n",
    "            eval_dataset = dataset[\"test\"]\n",
    "\n",
    "        train_dataset_dict[subset] = train_dataset\n",
    "        eval_dataset_dict[subset] = eval_dataset\n",
    "logging.info(train_dataset_dict)\n",
    "\n"
   ]
  },
  {
   "cell_type": "code",
   "execution_count": 5,
   "id": "95281b3c",
   "metadata": {},
   "outputs": [],
   "source": [
    "\n",
    "# We want the student EN embeddings to be similar to the teacher EN embeddings and\n",
    "# the student non-EN embeddings to be similar to the teacher EN embeddings\n",
    "def prepare_dataset(batch):\n",
    "    return {\n",
    "        \"english\": batch[\"english\"],\n",
    "        \"non_english\": batch[\"non_english\"],\n",
    "        \"label\": teacher_model.encode(batch[\"english\"], batch_size=inference_batch_size, show_progress_bar=False),\n",
    "    }"
   ]
  },
  {
   "cell_type": "code",
   "execution_count": 6,
   "id": "ddb0e3a2",
   "metadata": {},
   "outputs": [
    {
     "data": {
      "application/vnd.jupyter.widget-view+json": {
       "model_id": "a017be4b37ae4a00a6cad24844df3cf4",
       "version_major": 2,
       "version_minor": 0
      },
      "text/plain": [
       "Map:   0%|          | 0/45403 [00:00<?, ? examples/s]"
      ]
     },
     "metadata": {},
     "output_type": "display_data"
    },
    {
     "name": "stdout",
     "output_type": "stream",
     "text": [
      "2024-07-13 02:27:44 - Prepared datasets for training:\n",
      "2024-07-13 02:27:44 - Creating evaluators for en-hi\n"
     ]
    },
    {
     "data": {
      "application/vnd.jupyter.widget-view+json": {
       "model_id": "0feefebcc2f34808a1b54db039642f2b",
       "version_major": 2,
       "version_minor": 0
      },
      "text/plain": [
       "Map:   0%|          | 0/1000 [00:00<?, ? examples/s]"
      ]
     },
     "metadata": {},
     "output_type": "display_data"
    }
   ],
   "source": [
    "\n",
    "column_names = list(train_dataset_dict.values())[0].column_names\n",
    "train_dataset_dict = train_dataset_dict.map(\n",
    "    prepare_dataset, batched=True, batch_size=30000, remove_columns=column_names\n",
    ")\n",
    "logging.info(\"Prepared datasets for training:\", train_dataset_dict)\n",
    "\n",
    "# 3. Define our training loss\n",
    "# MSELoss (https://sbert.net/docs/package_reference/sentence_transformer/losses.html#mseloss) needs one text columns and one\n",
    "# column with embeddings from the teacher model\n",
    "train_loss = MSELoss(model=student_model)\n",
    "\n",
    "# 4. Define evaluators for use during training. This is useful to keep track of alongside the evaluation loss.\n",
    "evaluators = []\n",
    "\n",
    "for subset, eval_dataset in eval_dataset_dict.items():\n",
    "    logger.info(f\"Creating evaluators for {subset}\")\n",
    "\n",
    "    # Mean Squared Error (MSE) measures the (euclidean) distance between teacher and student embeddings\n",
    "    dev_mse = MSEEvaluator(\n",
    "        source_sentences=eval_dataset[\"english\"],\n",
    "        target_sentences=eval_dataset[\"non_english\"],\n",
    "        name=subset,\n",
    "        teacher_model=teacher_model,\n",
    "        batch_size=inference_batch_size,\n",
    "    )\n",
    "    evaluators.append(dev_mse)\n",
    "\n",
    "    # TranslationEvaluator computes the embeddings for all parallel sentences. It then check if the embedding of\n",
    "    # source[i] is the closest to target[i] out of all available target sentences\n",
    "    dev_trans_acc = TranslationEvaluator(\n",
    "        source_sentences=eval_dataset[\"english\"],\n",
    "        target_sentences=eval_dataset[\"non_english\"],\n",
    "        name=subset,\n",
    "        batch_size=inference_batch_size,\n",
    "    )\n",
    "    evaluators.append(dev_trans_acc)\n",
    "\n",
    "    # Try to load this subset from STS17\n",
    "#     test_dataset = None\n",
    "#     try:\n",
    "#         test_dataset = load_dataset(\"mteb/sts17-crosslingual-sts\", subset, split=\"test\")\n",
    "#     except Exception:\n",
    "#         try:\n",
    "#             test_dataset = load_dataset(\"mteb/sts17-crosslingual-sts\", f\"{subset[3:]}-{subset[:2]}\", split=\"test\")\n",
    "#             subset = f\"{subset[3:]}-{subset[:2]}\"\n",
    "#         except Exception:\n",
    "#             pass\n",
    "#     if test_dataset:\n",
    "#         test_evaluator = EmbeddingSimilarityEvaluator(\n",
    "#             sentences1=test_dataset[\"sentence1\"],\n",
    "#             sentences2=test_dataset[\"sentence2\"],\n",
    "#             scores=[score / 5.0 for score in test_dataset[\"score\"]],  # Convert 0-5 scores to 0-1 scores\n",
    "#             batch_size=inference_batch_size,\n",
    "#             name=f\"sts17-{subset}-test\",\n",
    "#             show_progress_bar=False,\n",
    "#         )\n",
    "#         evaluators.append(test_evaluator)\n",
    "\n",
    "evaluator = SequentialEvaluator(evaluators, main_score_function=lambda scores: np.mean(scores))\n",
    "# Now also prepare the evaluation datasets for training\n",
    "eval_dataset_dict = eval_dataset_dict.map(prepare_dataset, batched=True, batch_size=30000, remove_columns=column_names)\n"
   ]
  },
  {
   "cell_type": "code",
   "execution_count": 8,
   "id": "0f4d8aeb",
   "metadata": {},
   "outputs": [],
   "source": [
    "\n",
    "# 5. Define the training arguments\n",
    "args = SentenceTransformerTrainingArguments(\n",
    "    # Required parameter:\n",
    "    output_dir=output_dir,\n",
    "    # Optional training parameters:\n",
    "    num_train_epochs=num_train_epochs,\n",
    "    per_device_train_batch_size=train_batch_size,\n",
    "    per_device_eval_batch_size=train_batch_size,\n",
    "    warmup_ratio=0.1,\n",
    "    fp16=True,  # Set to False if you get an error that your GPU can't run on FP16\n",
    "    bf16=False,  # Set to True if you have a GPU that supports BF16\n",
    "    learning_rate=2e-5,\n",
    "    # Optional tracking/debugging parameters:\n",
    "    eval_strategy=\"steps\",\n",
    "    eval_steps=num_evaluation_steps,\n",
    "    save_strategy=\"steps\",\n",
    "    save_steps=num_evaluation_steps,\n",
    "    save_total_limit=2,\n",
    "    logging_steps=100,\n",
    "    run_name=f\"multilingual-{'-'.join(source_languages)}-{'-'.join(target_languages)}\",  # Will be used in W&B if `wandb` is installed\n",
    ")\n",
    "\n",
    "# 6. Create the trainer & start training\n",
    "trainer = SentenceTransformerTrainer(\n",
    "    model=student_model,\n",
    "    args=args,\n",
    "    train_dataset=train_dataset_dict,\n",
    "    eval_dataset=eval_dataset_dict,\n",
    "    loss=train_loss,\n",
    "    evaluator=evaluator,\n",
    ")\n"
   ]
  },
  {
   "cell_type": "code",
   "execution_count": 9,
   "id": "07b02fb1",
   "metadata": {},
   "outputs": [
    {
     "ename": "RuntimeError",
     "evalue": "User specified an unsupported autocast device_type 'mps'",
     "output_type": "error",
     "traceback": [
      "\u001b[0;31m---------------------------------------------------------------------------\u001b[0m",
      "\u001b[0;31mRuntimeError\u001b[0m                              Traceback (most recent call last)",
      "Cell \u001b[0;32mIn[9], line 1\u001b[0m\n\u001b[0;32m----> 1\u001b[0m trainer\u001b[38;5;241m.\u001b[39mtrain()\n",
      "File \u001b[0;32m~/anaconda3/lib/python3.11/site-packages/transformers/trainer.py:1938\u001b[0m, in \u001b[0;36mTrainer.train\u001b[0;34m(self, resume_from_checkpoint, trial, ignore_keys_for_eval, **kwargs)\u001b[0m\n\u001b[1;32m   1936\u001b[0m         hf_hub_utils\u001b[38;5;241m.\u001b[39menable_progress_bars()\n\u001b[1;32m   1937\u001b[0m \u001b[38;5;28;01melse\u001b[39;00m:\n\u001b[0;32m-> 1938\u001b[0m     \u001b[38;5;28;01mreturn\u001b[39;00m inner_training_loop(\n\u001b[1;32m   1939\u001b[0m         args\u001b[38;5;241m=\u001b[39margs,\n\u001b[1;32m   1940\u001b[0m         resume_from_checkpoint\u001b[38;5;241m=\u001b[39mresume_from_checkpoint,\n\u001b[1;32m   1941\u001b[0m         trial\u001b[38;5;241m=\u001b[39mtrial,\n\u001b[1;32m   1942\u001b[0m         ignore_keys_for_eval\u001b[38;5;241m=\u001b[39mignore_keys_for_eval,\n\u001b[1;32m   1943\u001b[0m     )\n",
      "File \u001b[0;32m~/anaconda3/lib/python3.11/site-packages/transformers/trainer.py:2095\u001b[0m, in \u001b[0;36mTrainer._inner_training_loop\u001b[0;34m(self, batch_size, args, resume_from_checkpoint, trial, ignore_keys_for_eval)\u001b[0m\n\u001b[1;32m   2093\u001b[0m         model \u001b[38;5;241m=\u001b[39m \u001b[38;5;28mself\u001b[39m\u001b[38;5;241m.\u001b[39maccelerator\u001b[38;5;241m.\u001b[39mprepare(\u001b[38;5;28mself\u001b[39m\u001b[38;5;241m.\u001b[39mmodel)\n\u001b[1;32m   2094\u001b[0m     \u001b[38;5;28;01melse\u001b[39;00m:\n\u001b[0;32m-> 2095\u001b[0m         model, \u001b[38;5;28mself\u001b[39m\u001b[38;5;241m.\u001b[39moptimizer \u001b[38;5;241m=\u001b[39m \u001b[38;5;28mself\u001b[39m\u001b[38;5;241m.\u001b[39maccelerator\u001b[38;5;241m.\u001b[39mprepare(\u001b[38;5;28mself\u001b[39m\u001b[38;5;241m.\u001b[39mmodel, \u001b[38;5;28mself\u001b[39m\u001b[38;5;241m.\u001b[39moptimizer)\n\u001b[1;32m   2096\u001b[0m \u001b[38;5;28;01melse\u001b[39;00m:\n\u001b[1;32m   2097\u001b[0m     \u001b[38;5;66;03m# to handle cases wherein we pass \"DummyScheduler\" such as when it is specified in DeepSpeed config.\u001b[39;00m\n\u001b[1;32m   2098\u001b[0m     model, \u001b[38;5;28mself\u001b[39m\u001b[38;5;241m.\u001b[39moptimizer, \u001b[38;5;28mself\u001b[39m\u001b[38;5;241m.\u001b[39mlr_scheduler \u001b[38;5;241m=\u001b[39m \u001b[38;5;28mself\u001b[39m\u001b[38;5;241m.\u001b[39maccelerator\u001b[38;5;241m.\u001b[39mprepare(\n\u001b[1;32m   2099\u001b[0m         \u001b[38;5;28mself\u001b[39m\u001b[38;5;241m.\u001b[39mmodel, \u001b[38;5;28mself\u001b[39m\u001b[38;5;241m.\u001b[39moptimizer, \u001b[38;5;28mself\u001b[39m\u001b[38;5;241m.\u001b[39mlr_scheduler\n\u001b[1;32m   2100\u001b[0m     )\n",
      "File \u001b[0;32m~/anaconda3/lib/python3.11/site-packages/accelerate/accelerator.py:1274\u001b[0m, in \u001b[0;36mAccelerator.prepare\u001b[0;34m(self, device_placement, *args)\u001b[0m\n\u001b[1;32m   1272\u001b[0m         \u001b[38;5;66;03m# MS-AMP will handle the device placement\u001b[39;00m\n\u001b[1;32m   1273\u001b[0m         device_placement \u001b[38;5;241m=\u001b[39m [\u001b[38;5;28;01mFalse\u001b[39;00m \u001b[38;5;28;01mfor\u001b[39;00m _ \u001b[38;5;129;01min\u001b[39;00m args]\n\u001b[0;32m-> 1274\u001b[0m     result \u001b[38;5;241m=\u001b[39m \u001b[38;5;28mtuple\u001b[39m(\n\u001b[1;32m   1275\u001b[0m         \u001b[38;5;28mself\u001b[39m\u001b[38;5;241m.\u001b[39m_prepare_one(obj, first_pass\u001b[38;5;241m=\u001b[39m\u001b[38;5;28;01mTrue\u001b[39;00m, device_placement\u001b[38;5;241m=\u001b[39md) \u001b[38;5;28;01mfor\u001b[39;00m obj, d \u001b[38;5;129;01min\u001b[39;00m \u001b[38;5;28mzip\u001b[39m(args, device_placement)\n\u001b[1;32m   1276\u001b[0m     )\n\u001b[1;32m   1277\u001b[0m     result \u001b[38;5;241m=\u001b[39m \u001b[38;5;28mtuple\u001b[39m(\u001b[38;5;28mself\u001b[39m\u001b[38;5;241m.\u001b[39m_prepare_one(obj, device_placement\u001b[38;5;241m=\u001b[39md) \u001b[38;5;28;01mfor\u001b[39;00m obj, d \u001b[38;5;129;01min\u001b[39;00m \u001b[38;5;28mzip\u001b[39m(result, device_placement))\n\u001b[1;32m   1279\u001b[0m \u001b[38;5;28;01mif\u001b[39;00m tpu_should_fix_optimizer \u001b[38;5;129;01mor\u001b[39;00m (\u001b[38;5;28mself\u001b[39m\u001b[38;5;241m.\u001b[39mmixed_precision \u001b[38;5;241m==\u001b[39m \u001b[38;5;124m\"\u001b[39m\u001b[38;5;124mfp8\u001b[39m\u001b[38;5;124m\"\u001b[39m \u001b[38;5;129;01mand\u001b[39;00m \u001b[38;5;28mself\u001b[39m\u001b[38;5;241m.\u001b[39mfp8_recipe_handler\u001b[38;5;241m.\u001b[39mbackend \u001b[38;5;241m==\u001b[39m \u001b[38;5;124m\"\u001b[39m\u001b[38;5;124mTE\u001b[39m\u001b[38;5;124m\"\u001b[39m):\n\u001b[1;32m   1280\u001b[0m     \u001b[38;5;66;03m# 2. grabbing new model parameters\u001b[39;00m\n",
      "File \u001b[0;32m~/anaconda3/lib/python3.11/site-packages/accelerate/accelerator.py:1275\u001b[0m, in \u001b[0;36m<genexpr>\u001b[0;34m(.0)\u001b[0m\n\u001b[1;32m   1272\u001b[0m         \u001b[38;5;66;03m# MS-AMP will handle the device placement\u001b[39;00m\n\u001b[1;32m   1273\u001b[0m         device_placement \u001b[38;5;241m=\u001b[39m [\u001b[38;5;28;01mFalse\u001b[39;00m \u001b[38;5;28;01mfor\u001b[39;00m _ \u001b[38;5;129;01min\u001b[39;00m args]\n\u001b[1;32m   1274\u001b[0m     result \u001b[38;5;241m=\u001b[39m \u001b[38;5;28mtuple\u001b[39m(\n\u001b[0;32m-> 1275\u001b[0m         \u001b[38;5;28mself\u001b[39m\u001b[38;5;241m.\u001b[39m_prepare_one(obj, first_pass\u001b[38;5;241m=\u001b[39m\u001b[38;5;28;01mTrue\u001b[39;00m, device_placement\u001b[38;5;241m=\u001b[39md) \u001b[38;5;28;01mfor\u001b[39;00m obj, d \u001b[38;5;129;01min\u001b[39;00m \u001b[38;5;28mzip\u001b[39m(args, device_placement)\n\u001b[1;32m   1276\u001b[0m     )\n\u001b[1;32m   1277\u001b[0m     result \u001b[38;5;241m=\u001b[39m \u001b[38;5;28mtuple\u001b[39m(\u001b[38;5;28mself\u001b[39m\u001b[38;5;241m.\u001b[39m_prepare_one(obj, device_placement\u001b[38;5;241m=\u001b[39md) \u001b[38;5;28;01mfor\u001b[39;00m obj, d \u001b[38;5;129;01min\u001b[39;00m \u001b[38;5;28mzip\u001b[39m(result, device_placement))\n\u001b[1;32m   1279\u001b[0m \u001b[38;5;28;01mif\u001b[39;00m tpu_should_fix_optimizer \u001b[38;5;129;01mor\u001b[39;00m (\u001b[38;5;28mself\u001b[39m\u001b[38;5;241m.\u001b[39mmixed_precision \u001b[38;5;241m==\u001b[39m \u001b[38;5;124m\"\u001b[39m\u001b[38;5;124mfp8\u001b[39m\u001b[38;5;124m\"\u001b[39m \u001b[38;5;129;01mand\u001b[39;00m \u001b[38;5;28mself\u001b[39m\u001b[38;5;241m.\u001b[39mfp8_recipe_handler\u001b[38;5;241m.\u001b[39mbackend \u001b[38;5;241m==\u001b[39m \u001b[38;5;124m\"\u001b[39m\u001b[38;5;124mTE\u001b[39m\u001b[38;5;124m\"\u001b[39m):\n\u001b[1;32m   1280\u001b[0m     \u001b[38;5;66;03m# 2. grabbing new model parameters\u001b[39;00m\n",
      "File \u001b[0;32m~/anaconda3/lib/python3.11/site-packages/accelerate/accelerator.py:1151\u001b[0m, in \u001b[0;36mAccelerator._prepare_one\u001b[0;34m(self, obj, first_pass, device_placement)\u001b[0m\n\u001b[1;32m   1149\u001b[0m     \u001b[38;5;28;01mreturn\u001b[39;00m \u001b[38;5;28mself\u001b[39m\u001b[38;5;241m.\u001b[39mprepare_data_loader(obj, device_placement\u001b[38;5;241m=\u001b[39mdevice_placement)\n\u001b[1;32m   1150\u001b[0m \u001b[38;5;28;01melif\u001b[39;00m \u001b[38;5;28misinstance\u001b[39m(obj, torch\u001b[38;5;241m.\u001b[39mnn\u001b[38;5;241m.\u001b[39mModule):\n\u001b[0;32m-> 1151\u001b[0m     \u001b[38;5;28;01mreturn\u001b[39;00m \u001b[38;5;28mself\u001b[39m\u001b[38;5;241m.\u001b[39mprepare_model(obj, device_placement\u001b[38;5;241m=\u001b[39mdevice_placement)\n\u001b[1;32m   1152\u001b[0m \u001b[38;5;28;01melif\u001b[39;00m \u001b[38;5;28misinstance\u001b[39m(obj, torch\u001b[38;5;241m.\u001b[39moptim\u001b[38;5;241m.\u001b[39mOptimizer):\n\u001b[1;32m   1153\u001b[0m     optimizer \u001b[38;5;241m=\u001b[39m \u001b[38;5;28mself\u001b[39m\u001b[38;5;241m.\u001b[39mprepare_optimizer(obj, device_placement\u001b[38;5;241m=\u001b[39mdevice_placement)\n",
      "File \u001b[0;32m~/anaconda3/lib/python3.11/site-packages/accelerate/accelerator.py:1341\u001b[0m, in \u001b[0;36mAccelerator.prepare_model\u001b[0;34m(self, model, device_placement, evaluation_mode)\u001b[0m\n\u001b[1;32m   1339\u001b[0m model\u001b[38;5;241m.\u001b[39m_original_forward \u001b[38;5;241m=\u001b[39m model\u001b[38;5;241m.\u001b[39mforward\n\u001b[1;32m   1340\u001b[0m model_forward_func \u001b[38;5;241m=\u001b[39m model\u001b[38;5;241m.\u001b[39mforward\u001b[38;5;241m.\u001b[39m\u001b[38;5;18m__func__\u001b[39m \u001b[38;5;28;01mif\u001b[39;00m \u001b[38;5;28mhasattr\u001b[39m(model\u001b[38;5;241m.\u001b[39mforward, \u001b[38;5;124m\"\u001b[39m\u001b[38;5;124m__func__\u001b[39m\u001b[38;5;124m\"\u001b[39m) \u001b[38;5;28;01melse\u001b[39;00m model\u001b[38;5;241m.\u001b[39mforward\n\u001b[0;32m-> 1341\u001b[0m autocast_context \u001b[38;5;241m=\u001b[39m get_mixed_precision_context_manager(\u001b[38;5;28mself\u001b[39m\u001b[38;5;241m.\u001b[39mnative_amp, \u001b[38;5;28mself\u001b[39m\u001b[38;5;241m.\u001b[39mautocast_handler)\n\u001b[1;32m   1342\u001b[0m new_forward \u001b[38;5;241m=\u001b[39m autocast_context(model_forward_func)\n\u001b[1;32m   1343\u001b[0m \u001b[38;5;28;01mif\u001b[39;00m \u001b[38;5;28mhasattr\u001b[39m(model\u001b[38;5;241m.\u001b[39mforward, \u001b[38;5;124m\"\u001b[39m\u001b[38;5;124m__func__\u001b[39m\u001b[38;5;124m\"\u001b[39m):\n",
      "File \u001b[0;32m~/anaconda3/lib/python3.11/site-packages/accelerate/utils/modeling.py:1785\u001b[0m, in \u001b[0;36mget_mixed_precision_context_manager\u001b[0;34m(native_amp, autocast_kwargs)\u001b[0m\n\u001b[1;32m   1779\u001b[0m device_type \u001b[38;5;241m=\u001b[39m (\n\u001b[1;32m   1780\u001b[0m     \u001b[38;5;124m\"\u001b[39m\u001b[38;5;124mcuda\u001b[39m\u001b[38;5;124m\"\u001b[39m\n\u001b[1;32m   1781\u001b[0m     \u001b[38;5;28;01mif\u001b[39;00m (state\u001b[38;5;241m.\u001b[39mdistributed_type \u001b[38;5;241m==\u001b[39m DistributedType\u001b[38;5;241m.\u001b[39mXLA \u001b[38;5;129;01mand\u001b[39;00m is_torch_xla_available(check_is_gpu\u001b[38;5;241m=\u001b[39m\u001b[38;5;28;01mTrue\u001b[39;00m))\n\u001b[1;32m   1782\u001b[0m     \u001b[38;5;28;01melse\u001b[39;00m state\u001b[38;5;241m.\u001b[39mdevice\u001b[38;5;241m.\u001b[39mtype\n\u001b[1;32m   1783\u001b[0m )\n\u001b[1;32m   1784\u001b[0m \u001b[38;5;28;01mif\u001b[39;00m state\u001b[38;5;241m.\u001b[39mmixed_precision \u001b[38;5;241m==\u001b[39m \u001b[38;5;124m\"\u001b[39m\u001b[38;5;124mfp16\u001b[39m\u001b[38;5;124m\"\u001b[39m:\n\u001b[0;32m-> 1785\u001b[0m     \u001b[38;5;28;01mreturn\u001b[39;00m torch\u001b[38;5;241m.\u001b[39mautocast(device_type\u001b[38;5;241m=\u001b[39mdevice_type, dtype\u001b[38;5;241m=\u001b[39mtorch\u001b[38;5;241m.\u001b[39mfloat16, \u001b[38;5;241m*\u001b[39m\u001b[38;5;241m*\u001b[39mautocast_kwargs)\n\u001b[1;32m   1786\u001b[0m \u001b[38;5;28;01melif\u001b[39;00m state\u001b[38;5;241m.\u001b[39mmixed_precision \u001b[38;5;241m==\u001b[39m \u001b[38;5;124m\"\u001b[39m\u001b[38;5;124mbf16\u001b[39m\u001b[38;5;124m\"\u001b[39m \u001b[38;5;129;01mand\u001b[39;00m state\u001b[38;5;241m.\u001b[39mdistributed_type \u001b[38;5;129;01min\u001b[39;00m [\n\u001b[1;32m   1787\u001b[0m     DistributedType\u001b[38;5;241m.\u001b[39mNO,\n\u001b[1;32m   1788\u001b[0m     DistributedType\u001b[38;5;241m.\u001b[39mMULTI_CPU,\n\u001b[0;32m   (...)\u001b[0m\n\u001b[1;32m   1794\u001b[0m     DistributedType\u001b[38;5;241m.\u001b[39mXLA,\n\u001b[1;32m   1795\u001b[0m ]:\n\u001b[1;32m   1796\u001b[0m     \u001b[38;5;28;01mreturn\u001b[39;00m torch\u001b[38;5;241m.\u001b[39mautocast(device_type\u001b[38;5;241m=\u001b[39mdevice_type, dtype\u001b[38;5;241m=\u001b[39mtorch\u001b[38;5;241m.\u001b[39mbfloat16, \u001b[38;5;241m*\u001b[39m\u001b[38;5;241m*\u001b[39mautocast_kwargs)\n",
      "File \u001b[0;32m~/anaconda3/lib/python3.11/site-packages/torch/amp/autocast_mode.py:241\u001b[0m, in \u001b[0;36mautocast.__init__\u001b[0;34m(self, device_type, dtype, enabled, cache_enabled)\u001b[0m\n\u001b[1;32m    239\u001b[0m     \u001b[38;5;28mself\u001b[39m\u001b[38;5;241m.\u001b[39mfast_dtype \u001b[38;5;241m=\u001b[39m \u001b[38;5;28mself\u001b[39m\u001b[38;5;241m.\u001b[39mcustom_device_mod\u001b[38;5;241m.\u001b[39mget_autocast_dtype()\n\u001b[1;32m    240\u001b[0m \u001b[38;5;28;01melse\u001b[39;00m:\n\u001b[0;32m--> 241\u001b[0m     \u001b[38;5;28;01mraise\u001b[39;00m \u001b[38;5;167;01mRuntimeError\u001b[39;00m(\n\u001b[1;32m    242\u001b[0m         \u001b[38;5;124mf\u001b[39m\u001b[38;5;124m\"\u001b[39m\u001b[38;5;124mUser specified an unsupported autocast device_type \u001b[39m\u001b[38;5;124m'\u001b[39m\u001b[38;5;132;01m{\u001b[39;00m\u001b[38;5;28mself\u001b[39m\u001b[38;5;241m.\u001b[39mdevice\u001b[38;5;132;01m}\u001b[39;00m\u001b[38;5;124m'\u001b[39m\u001b[38;5;124m\"\u001b[39m\n\u001b[1;32m    243\u001b[0m     )\n\u001b[1;32m    244\u001b[0m \u001b[38;5;28mself\u001b[39m\u001b[38;5;241m.\u001b[39m_cache_enabled \u001b[38;5;241m=\u001b[39m torch\u001b[38;5;241m.\u001b[39mis_autocast_cache_enabled()\n\u001b[1;32m    245\u001b[0m \u001b[38;5;28;01mif\u001b[39;00m (\n\u001b[1;32m    246\u001b[0m     enabled\n\u001b[1;32m    247\u001b[0m     \u001b[38;5;129;01mand\u001b[39;00m torch\u001b[38;5;241m.\u001b[39mcuda\u001b[38;5;241m.\u001b[39mamp\u001b[38;5;241m.\u001b[39mcommon\u001b[38;5;241m.\u001b[39mamp_definitely_not_available()\n\u001b[1;32m    248\u001b[0m     \u001b[38;5;129;01mand\u001b[39;00m \u001b[38;5;28mself\u001b[39m\u001b[38;5;241m.\u001b[39mdevice \u001b[38;5;241m==\u001b[39m \u001b[38;5;124m\"\u001b[39m\u001b[38;5;124mcuda\u001b[39m\u001b[38;5;124m\"\u001b[39m\n\u001b[1;32m    249\u001b[0m ):\n",
      "\u001b[0;31mRuntimeError\u001b[0m: User specified an unsupported autocast device_type 'mps'"
     ]
    }
   ],
   "source": [
    "trainer.train()"
   ]
  },
  {
   "cell_type": "code",
   "execution_count": null,
   "id": "ae637971",
   "metadata": {},
   "outputs": [],
   "source": [
    "\n",
    "# 7. Save the trained & evaluated model locally\n",
    "final_output_dir = f\"{output_dir}/final\"\n",
    "student_model.save(final_output_dir)\n",
    "\n",
    "# 8. (Optional) save the model to the Hugging Face Hub!\n",
    "# It is recommended to run `huggingface-cli login` to log into your Hugging Face account first\n",
    "model_name = student_model_name if \"/\" not in student_model_name else student_model_name.split(\"/\")[-1]\n",
    "try:\n",
    "    student_model.push_to_hub(f\"{model_name}-multilingual-{'-'.join(source_languages)}-{'-'.join(target_languages)}\")\n",
    "except Exception:\n",
    "    logging.error(\n",
    "        f\"Error uploading model to the Hugging Face Hub:\\n{traceback.format_exc()}To upload it manually, you can run \"\n",
    "        f\"`huggingface-cli login`, followed by loading the model using `model = SentenceTransformer({final_output_dir!r})` \"\n",
    "        f\"and saving it using `model.push_to_hub('{model_name}-multilingual-{'-'.join(source_languages)}-{'-'.join(target_languages)}')`.\"\n",
    "    )"
   ]
  },
  {
   "cell_type": "code",
   "execution_count": 17,
   "id": "3f3b9d2d",
   "metadata": {},
   "outputs": [],
   "source": [
    "sentence = \"my name is abhishek\""
   ]
  },
  {
   "cell_type": "code",
   "execution_count": 18,
   "id": "c3b09cfa",
   "metadata": {},
   "outputs": [
    {
     "data": {
      "application/vnd.jupyter.widget-view+json": {
       "model_id": "889635a4a48f464bbdd8ce2e5a786a4c",
       "version_major": 2,
       "version_minor": 0
      },
      "text/plain": [
       "Batches:   0%|          | 0/1 [00:00<?, ?it/s]"
      ]
     },
     "metadata": {},
     "output_type": "display_data"
    }
   ],
   "source": [
    "embedding = student_model.encode(sentence)"
   ]
  },
  {
   "cell_type": "code",
   "execution_count": 19,
   "id": "58a02de6",
   "metadata": {},
   "outputs": [],
   "source": [
    "def generate_embedding(sentence):\n",
    "    return student_model.encode(sentence)"
   ]
  },
  {
   "cell_type": "code",
   "execution_count": 20,
   "id": "39970b53",
   "metadata": {},
   "outputs": [
    {
     "data": {
      "text/plain": [
       "384"
      ]
     },
     "execution_count": 20,
     "metadata": {},
     "output_type": "execute_result"
    }
   ],
   "source": [
    "len(embedding)"
   ]
  },
  {
   "cell_type": "code",
   "execution_count": 21,
   "id": "fbd7f2b6",
   "metadata": {},
   "outputs": [],
   "source": [
    "from sklearn.metrics.pairwise import cosine_similarity\n",
    "import numpy as np\n",
    "\n",
    "def calculate_cosine_similarity(vec1, vec2):\n",
    "    # Ensure the input vectors are numpy arrays\n",
    "    vec1 = np.array(vec1).reshape(1, -1)\n",
    "    vec2 = np.array(vec2).reshape(1, -1)\n",
    "    \n",
    "    # Calculate cosine similarity\n",
    "    similarity = cosine_similarity(vec1, vec2)\n",
    "    \n",
    "    # The result is a 2D array, extract the value from it\n",
    "    return similarity[0][0]"
   ]
  },
  {
   "cell_type": "code",
   "execution_count": 22,
   "id": "d01384f1",
   "metadata": {},
   "outputs": [],
   "source": [
    "def get_similarity(sent1, sent2):\n",
    "    emb1 = generate_embedding(sent1)\n",
    "    emb2 = generate_embedding(sent2)\n",
    "    cos_sim = calculate_cosine_similarity(emb1, emb2)\n",
    "    return cos_sim\n",
    "    "
   ]
  },
  {
   "cell_type": "code",
   "execution_count": 23,
   "id": "dc995fbd",
   "metadata": {},
   "outputs": [
    {
     "data": {
      "application/vnd.jupyter.widget-view+json": {
       "model_id": "31cb5cbcb8f54f3ea4f1f293b89545bd",
       "version_major": 2,
       "version_minor": 0
      },
      "text/plain": [
       "Batches:   0%|          | 0/1 [00:00<?, ?it/s]"
      ]
     },
     "metadata": {},
     "output_type": "display_data"
    },
    {
     "data": {
      "application/vnd.jupyter.widget-view+json": {
       "model_id": "a11ae5e1a74b4d6da754de657b06775a",
       "version_major": 2,
       "version_minor": 0
      },
      "text/plain": [
       "Batches:   0%|          | 0/1 [00:00<?, ?it/s]"
      ]
     },
     "metadata": {},
     "output_type": "display_data"
    },
    {
     "data": {
      "text/plain": [
       "0.99999994"
      ]
     },
     "execution_count": 23,
     "metadata": {},
     "output_type": "execute_result"
    }
   ],
   "source": [
    "get_similarity(\"my name is abhishek\",\"my name is abhishek\")"
   ]
  },
  {
   "cell_type": "code",
   "execution_count": 24,
   "id": "54c0411a",
   "metadata": {},
   "outputs": [
    {
     "data": {
      "application/vnd.jupyter.widget-view+json": {
       "model_id": "cd11ce4011384e5b96abe111afbe2b6b",
       "version_major": 2,
       "version_minor": 0
      },
      "text/plain": [
       "Batches:   0%|          | 0/1 [00:00<?, ?it/s]"
      ]
     },
     "metadata": {},
     "output_type": "display_data"
    },
    {
     "data": {
      "application/vnd.jupyter.widget-view+json": {
       "model_id": "f4788613558b42aa86550861b9359f27",
       "version_major": 2,
       "version_minor": 0
      },
      "text/plain": [
       "Batches:   0%|          | 0/1 [00:00<?, ?it/s]"
      ]
     },
     "metadata": {},
     "output_type": "display_data"
    },
    {
     "data": {
      "text/plain": [
       "0.36388004"
      ]
     },
     "execution_count": 24,
     "metadata": {},
     "output_type": "execute_result"
    }
   ],
   "source": [
    "get_similarity(\"my name is abhishek\",\"i am eating food\")"
   ]
  },
  {
   "cell_type": "code",
   "execution_count": 25,
   "id": "fd995b4d",
   "metadata": {},
   "outputs": [
    {
     "data": {
      "application/vnd.jupyter.widget-view+json": {
       "model_id": "2bd927a3568e4af1b186fc8c032f345e",
       "version_major": 2,
       "version_minor": 0
      },
      "text/plain": [
       "Batches:   0%|          | 0/1 [00:00<?, ?it/s]"
      ]
     },
     "metadata": {},
     "output_type": "display_data"
    },
    {
     "data": {
      "application/vnd.jupyter.widget-view+json": {
       "model_id": "4303c31d25f84c64ab0ff9d13f46071b",
       "version_major": 2,
       "version_minor": 0
      },
      "text/plain": [
       "Batches:   0%|          | 0/1 [00:00<?, ?it/s]"
      ]
     },
     "metadata": {},
     "output_type": "display_data"
    },
    {
     "data": {
      "application/vnd.jupyter.widget-view+json": {
       "model_id": "942e621dd830410cacdf8d36d9917a14",
       "version_major": 2,
       "version_minor": 0
      },
      "text/plain": [
       "Batches:   0%|          | 0/1 [00:00<?, ?it/s]"
      ]
     },
     "metadata": {},
     "output_type": "display_data"
    },
    {
     "data": {
      "application/vnd.jupyter.widget-view+json": {
       "model_id": "d103376f9f4741e09e216d54db96d8a7",
       "version_major": 2,
       "version_minor": 0
      },
      "text/plain": [
       "Batches:   0%|          | 0/1 [00:00<?, ?it/s]"
      ]
     },
     "metadata": {},
     "output_type": "display_data"
    },
    {
     "data": {
      "application/vnd.jupyter.widget-view+json": {
       "model_id": "4ca921376f46424b84d10917035af14d",
       "version_major": 2,
       "version_minor": 0
      },
      "text/plain": [
       "Batches:   0%|          | 0/1 [00:00<?, ?it/s]"
      ]
     },
     "metadata": {},
     "output_type": "display_data"
    },
    {
     "data": {
      "application/vnd.jupyter.widget-view+json": {
       "model_id": "c5f74c143422497d9e126157435ea479",
       "version_major": 2,
       "version_minor": 0
      },
      "text/plain": [
       "Batches:   0%|          | 0/1 [00:00<?, ?it/s]"
      ]
     },
     "metadata": {},
     "output_type": "display_data"
    },
    {
     "data": {
      "application/vnd.jupyter.widget-view+json": {
       "model_id": "798c0ebfccca4293bd104a381bd1b418",
       "version_major": 2,
       "version_minor": 0
      },
      "text/plain": [
       "Batches:   0%|          | 0/1 [00:00<?, ?it/s]"
      ]
     },
     "metadata": {},
     "output_type": "display_data"
    },
    {
     "data": {
      "application/vnd.jupyter.widget-view+json": {
       "model_id": "0912a596fd7d470c85cd8a16b524c2c1",
       "version_major": 2,
       "version_minor": 0
      },
      "text/plain": [
       "Batches:   0%|          | 0/1 [00:00<?, ?it/s]"
      ]
     },
     "metadata": {},
     "output_type": "display_data"
    },
    {
     "data": {
      "application/vnd.jupyter.widget-view+json": {
       "model_id": "df5fba3850674e6aa9f7ed3cfad50ef6",
       "version_major": 2,
       "version_minor": 0
      },
      "text/plain": [
       "Batches:   0%|          | 0/1 [00:00<?, ?it/s]"
      ]
     },
     "metadata": {},
     "output_type": "display_data"
    },
    {
     "data": {
      "application/vnd.jupyter.widget-view+json": {
       "model_id": "db34a7343aac418ab70171eb7bd51322",
       "version_major": 2,
       "version_minor": 0
      },
      "text/plain": [
       "Batches:   0%|          | 0/1 [00:00<?, ?it/s]"
      ]
     },
     "metadata": {},
     "output_type": "display_data"
    },
    {
     "data": {
      "application/vnd.jupyter.widget-view+json": {
       "model_id": "2e8e6d966a5a4a6b997fc2ddda3e66ab",
       "version_major": 2,
       "version_minor": 0
      },
      "text/plain": [
       "Batches:   0%|          | 0/1 [00:00<?, ?it/s]"
      ]
     },
     "metadata": {},
     "output_type": "display_data"
    },
    {
     "data": {
      "application/vnd.jupyter.widget-view+json": {
       "model_id": "3237b006b14c4aeb901ac265b00daf3f",
       "version_major": 2,
       "version_minor": 0
      },
      "text/plain": [
       "Batches:   0%|          | 0/1 [00:00<?, ?it/s]"
      ]
     },
     "metadata": {},
     "output_type": "display_data"
    },
    {
     "data": {
      "application/vnd.jupyter.widget-view+json": {
       "model_id": "dd9521bbfabc4886b0c0f542df6b31f2",
       "version_major": 2,
       "version_minor": 0
      },
      "text/plain": [
       "Batches:   0%|          | 0/1 [00:00<?, ?it/s]"
      ]
     },
     "metadata": {},
     "output_type": "display_data"
    },
    {
     "data": {
      "application/vnd.jupyter.widget-view+json": {
       "model_id": "c1fad42e2ffc4d87ac90b601005e838f",
       "version_major": 2,
       "version_minor": 0
      },
      "text/plain": [
       "Batches:   0%|          | 0/1 [00:00<?, ?it/s]"
      ]
     },
     "metadata": {},
     "output_type": "display_data"
    },
    {
     "data": {
      "application/vnd.jupyter.widget-view+json": {
       "model_id": "6dfd9a8f0d99467ab057c91be6d1aa40",
       "version_major": 2,
       "version_minor": 0
      },
      "text/plain": [
       "Batches:   0%|          | 0/1 [00:00<?, ?it/s]"
      ]
     },
     "metadata": {},
     "output_type": "display_data"
    },
    {
     "data": {
      "application/vnd.jupyter.widget-view+json": {
       "model_id": "6908309177654a608728622cad985b16",
       "version_major": 2,
       "version_minor": 0
      },
      "text/plain": [
       "Batches:   0%|          | 0/1 [00:00<?, ?it/s]"
      ]
     },
     "metadata": {},
     "output_type": "display_data"
    },
    {
     "data": {
      "application/vnd.jupyter.widget-view+json": {
       "model_id": "fef4474664c649d1970c112c48b23421",
       "version_major": 2,
       "version_minor": 0
      },
      "text/plain": [
       "Batches:   0%|          | 0/1 [00:00<?, ?it/s]"
      ]
     },
     "metadata": {},
     "output_type": "display_data"
    },
    {
     "data": {
      "application/vnd.jupyter.widget-view+json": {
       "model_id": "abd02281d169481fb4990b26f28cfc18",
       "version_major": 2,
       "version_minor": 0
      },
      "text/plain": [
       "Batches:   0%|          | 0/1 [00:00<?, ?it/s]"
      ]
     },
     "metadata": {},
     "output_type": "display_data"
    },
    {
     "data": {
      "application/vnd.jupyter.widget-view+json": {
       "model_id": "dfbbacd9269f4b848c2d9f01ad460aa9",
       "version_major": 2,
       "version_minor": 0
      },
      "text/plain": [
       "Batches:   0%|          | 0/1 [00:00<?, ?it/s]"
      ]
     },
     "metadata": {},
     "output_type": "display_data"
    },
    {
     "data": {
      "application/vnd.jupyter.widget-view+json": {
       "model_id": "3291ca11fd0548d7be8966a3dd189f0f",
       "version_major": 2,
       "version_minor": 0
      },
      "text/plain": [
       "Batches:   0%|          | 0/1 [00:00<?, ?it/s]"
      ]
     },
     "metadata": {},
     "output_type": "display_data"
    },
    {
     "data": {
      "application/vnd.jupyter.widget-view+json": {
       "model_id": "234844db1d0547f4a4f5d50ecfbacf39",
       "version_major": 2,
       "version_minor": 0
      },
      "text/plain": [
       "Batches:   0%|          | 0/1 [00:00<?, ?it/s]"
      ]
     },
     "metadata": {},
     "output_type": "display_data"
    },
    {
     "data": {
      "application/vnd.jupyter.widget-view+json": {
       "model_id": "1c4611f9051a4b189280a9c88256cab1",
       "version_major": 2,
       "version_minor": 0
      },
      "text/plain": [
       "Batches:   0%|          | 0/1 [00:00<?, ?it/s]"
      ]
     },
     "metadata": {},
     "output_type": "display_data"
    },
    {
     "data": {
      "application/vnd.jupyter.widget-view+json": {
       "model_id": "f1bdb30a70e44138bc672380f9edd7d4",
       "version_major": 2,
       "version_minor": 0
      },
      "text/plain": [
       "Batches:   0%|          | 0/1 [00:00<?, ?it/s]"
      ]
     },
     "metadata": {},
     "output_type": "display_data"
    },
    {
     "data": {
      "application/vnd.jupyter.widget-view+json": {
       "model_id": "a2bba9294490420582522cbcd706ff42",
       "version_major": 2,
       "version_minor": 0
      },
      "text/plain": [
       "Batches:   0%|          | 0/1 [00:00<?, ?it/s]"
      ]
     },
     "metadata": {},
     "output_type": "display_data"
    },
    {
     "data": {
      "application/vnd.jupyter.widget-view+json": {
       "model_id": "23d72799f8a04685806598594cf93219",
       "version_major": 2,
       "version_minor": 0
      },
      "text/plain": [
       "Batches:   0%|          | 0/1 [00:00<?, ?it/s]"
      ]
     },
     "metadata": {},
     "output_type": "display_data"
    },
    {
     "data": {
      "application/vnd.jupyter.widget-view+json": {
       "model_id": "21b73aa4bec64ca39da7966293c5ec9c",
       "version_major": 2,
       "version_minor": 0
      },
      "text/plain": [
       "Batches:   0%|          | 0/1 [00:00<?, ?it/s]"
      ]
     },
     "metadata": {},
     "output_type": "display_data"
    },
    {
     "data": {
      "application/vnd.jupyter.widget-view+json": {
       "model_id": "70ecf0c270074415a4dfb3d4162898c9",
       "version_major": 2,
       "version_minor": 0
      },
      "text/plain": [
       "Batches:   0%|          | 0/1 [00:00<?, ?it/s]"
      ]
     },
     "metadata": {},
     "output_type": "display_data"
    },
    {
     "data": {
      "application/vnd.jupyter.widget-view+json": {
       "model_id": "af6263b0c0b54eeb96f291a709436db3",
       "version_major": 2,
       "version_minor": 0
      },
      "text/plain": [
       "Batches:   0%|          | 0/1 [00:00<?, ?it/s]"
      ]
     },
     "metadata": {},
     "output_type": "display_data"
    },
    {
     "data": {
      "application/vnd.jupyter.widget-view+json": {
       "model_id": "4487593e2d96464e96fd9bb2127479cf",
       "version_major": 2,
       "version_minor": 0
      },
      "text/plain": [
       "Batches:   0%|          | 0/1 [00:00<?, ?it/s]"
      ]
     },
     "metadata": {},
     "output_type": "display_data"
    },
    {
     "data": {
      "application/vnd.jupyter.widget-view+json": {
       "model_id": "406b54be4cfa4b6ea4af5c48d7c054a5",
       "version_major": 2,
       "version_minor": 0
      },
      "text/plain": [
       "Batches:   0%|          | 0/1 [00:00<?, ?it/s]"
      ]
     },
     "metadata": {},
     "output_type": "display_data"
    },
    {
     "data": {
      "application/vnd.jupyter.widget-view+json": {
       "model_id": "9efe36a913384745900d2e812c76b9dc",
       "version_major": 2,
       "version_minor": 0
      },
      "text/plain": [
       "Batches:   0%|          | 0/1 [00:00<?, ?it/s]"
      ]
     },
     "metadata": {},
     "output_type": "display_data"
    },
    {
     "data": {
      "application/vnd.jupyter.widget-view+json": {
       "model_id": "55a22a6b82d6439cbc95875e34607608",
       "version_major": 2,
       "version_minor": 0
      },
      "text/plain": [
       "Batches:   0%|          | 0/1 [00:00<?, ?it/s]"
      ]
     },
     "metadata": {},
     "output_type": "display_data"
    },
    {
     "data": {
      "application/vnd.jupyter.widget-view+json": {
       "model_id": "73c2e6f4fc8947e887f8f05cfabffa7a",
       "version_major": 2,
       "version_minor": 0
      },
      "text/plain": [
       "Batches:   0%|          | 0/1 [00:00<?, ?it/s]"
      ]
     },
     "metadata": {},
     "output_type": "display_data"
    },
    {
     "data": {
      "application/vnd.jupyter.widget-view+json": {
       "model_id": "0370714296a74224be5dd5455ee10556",
       "version_major": 2,
       "version_minor": 0
      },
      "text/plain": [
       "Batches:   0%|          | 0/1 [00:00<?, ?it/s]"
      ]
     },
     "metadata": {},
     "output_type": "display_data"
    },
    {
     "data": {
      "application/vnd.jupyter.widget-view+json": {
       "model_id": "2d29d985c5db4bf3aaaeaae7e7fcac9b",
       "version_major": 2,
       "version_minor": 0
      },
      "text/plain": [
       "Batches:   0%|          | 0/1 [00:00<?, ?it/s]"
      ]
     },
     "metadata": {},
     "output_type": "display_data"
    },
    {
     "data": {
      "application/vnd.jupyter.widget-view+json": {
       "model_id": "c8a78508026e4f5881ef40e41547efa9",
       "version_major": 2,
       "version_minor": 0
      },
      "text/plain": [
       "Batches:   0%|          | 0/1 [00:00<?, ?it/s]"
      ]
     },
     "metadata": {},
     "output_type": "display_data"
    },
    {
     "data": {
      "application/vnd.jupyter.widget-view+json": {
       "model_id": "a5c3853969e3481dae7737505fc29fab",
       "version_major": 2,
       "version_minor": 0
      },
      "text/plain": [
       "Batches:   0%|          | 0/1 [00:00<?, ?it/s]"
      ]
     },
     "metadata": {},
     "output_type": "display_data"
    },
    {
     "data": {
      "application/vnd.jupyter.widget-view+json": {
       "model_id": "b1624ff4491648edb08e55e1955b903e",
       "version_major": 2,
       "version_minor": 0
      },
      "text/plain": [
       "Batches:   0%|          | 0/1 [00:00<?, ?it/s]"
      ]
     },
     "metadata": {},
     "output_type": "display_data"
    },
    {
     "data": {
      "application/vnd.jupyter.widget-view+json": {
       "model_id": "93cf440aae694ae8a175255cdb6e7b32",
       "version_major": 2,
       "version_minor": 0
      },
      "text/plain": [
       "Batches:   0%|          | 0/1 [00:00<?, ?it/s]"
      ]
     },
     "metadata": {},
     "output_type": "display_data"
    },
    {
     "data": {
      "application/vnd.jupyter.widget-view+json": {
       "model_id": "bd348dea9fd64bd7a3dee4c7135f9692",
       "version_major": 2,
       "version_minor": 0
      },
      "text/plain": [
       "Batches:   0%|          | 0/1 [00:00<?, ?it/s]"
      ]
     },
     "metadata": {},
     "output_type": "display_data"
    },
    {
     "data": {
      "application/vnd.jupyter.widget-view+json": {
       "model_id": "53b5b9da1ab94086b43787e4df40296b",
       "version_major": 2,
       "version_minor": 0
      },
      "text/plain": [
       "Batches:   0%|          | 0/1 [00:00<?, ?it/s]"
      ]
     },
     "metadata": {},
     "output_type": "display_data"
    },
    {
     "data": {
      "application/vnd.jupyter.widget-view+json": {
       "model_id": "32bab33b8dae4b929b9afec04bb0f89a",
       "version_major": 2,
       "version_minor": 0
      },
      "text/plain": [
       "Batches:   0%|          | 0/1 [00:00<?, ?it/s]"
      ]
     },
     "metadata": {},
     "output_type": "display_data"
    },
    {
     "data": {
      "application/vnd.jupyter.widget-view+json": {
       "model_id": "212bb351d6d9417e9399a7b4a7f7624f",
       "version_major": 2,
       "version_minor": 0
      },
      "text/plain": [
       "Batches:   0%|          | 0/1 [00:00<?, ?it/s]"
      ]
     },
     "metadata": {},
     "output_type": "display_data"
    },
    {
     "data": {
      "application/vnd.jupyter.widget-view+json": {
       "model_id": "25aae76476874677b11d9c9779524cdb",
       "version_major": 2,
       "version_minor": 0
      },
      "text/plain": [
       "Batches:   0%|          | 0/1 [00:00<?, ?it/s]"
      ]
     },
     "metadata": {},
     "output_type": "display_data"
    },
    {
     "data": {
      "application/vnd.jupyter.widget-view+json": {
       "model_id": "18f5a33532634d94af701cb4f8744c66",
       "version_major": 2,
       "version_minor": 0
      },
      "text/plain": [
       "Batches:   0%|          | 0/1 [00:00<?, ?it/s]"
      ]
     },
     "metadata": {},
     "output_type": "display_data"
    },
    {
     "data": {
      "application/vnd.jupyter.widget-view+json": {
       "model_id": "1aab5f2aea4b405a93492d8e2390019a",
       "version_major": 2,
       "version_minor": 0
      },
      "text/plain": [
       "Batches:   0%|          | 0/1 [00:00<?, ?it/s]"
      ]
     },
     "metadata": {},
     "output_type": "display_data"
    },
    {
     "data": {
      "application/vnd.jupyter.widget-view+json": {
       "model_id": "7e4490da0ba4412ba60fd419ab7a9b40",
       "version_major": 2,
       "version_minor": 0
      },
      "text/plain": [
       "Batches:   0%|          | 0/1 [00:00<?, ?it/s]"
      ]
     },
     "metadata": {},
     "output_type": "display_data"
    },
    {
     "data": {
      "application/vnd.jupyter.widget-view+json": {
       "model_id": "a10379db16da4fbeb57a5fdf3171f539",
       "version_major": 2,
       "version_minor": 0
      },
      "text/plain": [
       "Batches:   0%|          | 0/1 [00:00<?, ?it/s]"
      ]
     },
     "metadata": {},
     "output_type": "display_data"
    },
    {
     "data": {
      "application/vnd.jupyter.widget-view+json": {
       "model_id": "759eeab2bd644d279942d7d28b6bf80d",
       "version_major": 2,
       "version_minor": 0
      },
      "text/plain": [
       "Batches:   0%|          | 0/1 [00:00<?, ?it/s]"
      ]
     },
     "metadata": {},
     "output_type": "display_data"
    },
    {
     "data": {
      "application/vnd.jupyter.widget-view+json": {
       "model_id": "7fdd68f3f4734fb6ad1e19c97cbffb17",
       "version_major": 2,
       "version_minor": 0
      },
      "text/plain": [
       "Batches:   0%|          | 0/1 [00:00<?, ?it/s]"
      ]
     },
     "metadata": {},
     "output_type": "display_data"
    },
    {
     "data": {
      "application/vnd.jupyter.widget-view+json": {
       "model_id": "a39dc11a212b4615b97c7cd40bfc3cb9",
       "version_major": 2,
       "version_minor": 0
      },
      "text/plain": [
       "Batches:   0%|          | 0/1 [00:00<?, ?it/s]"
      ]
     },
     "metadata": {},
     "output_type": "display_data"
    },
    {
     "data": {
      "application/vnd.jupyter.widget-view+json": {
       "model_id": "59c407704f6a4b59a0f70eb9d3e5b816",
       "version_major": 2,
       "version_minor": 0
      },
      "text/plain": [
       "Batches:   0%|          | 0/1 [00:00<?, ?it/s]"
      ]
     },
     "metadata": {},
     "output_type": "display_data"
    },
    {
     "data": {
      "application/vnd.jupyter.widget-view+json": {
       "model_id": "fce0065c969f44fd879d936ad17b7ad3",
       "version_major": 2,
       "version_minor": 0
      },
      "text/plain": [
       "Batches:   0%|          | 0/1 [00:00<?, ?it/s]"
      ]
     },
     "metadata": {},
     "output_type": "display_data"
    },
    {
     "data": {
      "application/vnd.jupyter.widget-view+json": {
       "model_id": "56997370258b4d8abd32cf026c32c9d7",
       "version_major": 2,
       "version_minor": 0
      },
      "text/plain": [
       "Batches:   0%|          | 0/1 [00:00<?, ?it/s]"
      ]
     },
     "metadata": {},
     "output_type": "display_data"
    },
    {
     "data": {
      "application/vnd.jupyter.widget-view+json": {
       "model_id": "f6bde696ff694519bcab28224f0eddeb",
       "version_major": 2,
       "version_minor": 0
      },
      "text/plain": [
       "Batches:   0%|          | 0/1 [00:00<?, ?it/s]"
      ]
     },
     "metadata": {},
     "output_type": "display_data"
    },
    {
     "data": {
      "application/vnd.jupyter.widget-view+json": {
       "model_id": "9b3b4e1cd14649dea221fe38e43497af",
       "version_major": 2,
       "version_minor": 0
      },
      "text/plain": [
       "Batches:   0%|          | 0/1 [00:00<?, ?it/s]"
      ]
     },
     "metadata": {},
     "output_type": "display_data"
    },
    {
     "data": {
      "application/vnd.jupyter.widget-view+json": {
       "model_id": "33fd6812c63447d4af59b15067a3e4ab",
       "version_major": 2,
       "version_minor": 0
      },
      "text/plain": [
       "Batches:   0%|          | 0/1 [00:00<?, ?it/s]"
      ]
     },
     "metadata": {},
     "output_type": "display_data"
    },
    {
     "data": {
      "application/vnd.jupyter.widget-view+json": {
       "model_id": "0aa113ae5a5f4140aad6b6f2eaf1a77d",
       "version_major": 2,
       "version_minor": 0
      },
      "text/plain": [
       "Batches:   0%|          | 0/1 [00:00<?, ?it/s]"
      ]
     },
     "metadata": {},
     "output_type": "display_data"
    },
    {
     "data": {
      "application/vnd.jupyter.widget-view+json": {
       "model_id": "60acbff1a69c42ddbff7a57b90e4e8dd",
       "version_major": 2,
       "version_minor": 0
      },
      "text/plain": [
       "Batches:   0%|          | 0/1 [00:00<?, ?it/s]"
      ]
     },
     "metadata": {},
     "output_type": "display_data"
    },
    {
     "data": {
      "application/vnd.jupyter.widget-view+json": {
       "model_id": "b85e037809c845bea56f0e090e754edc",
       "version_major": 2,
       "version_minor": 0
      },
      "text/plain": [
       "Batches:   0%|          | 0/1 [00:00<?, ?it/s]"
      ]
     },
     "metadata": {},
     "output_type": "display_data"
    },
    {
     "data": {
      "application/vnd.jupyter.widget-view+json": {
       "model_id": "738d9a9d47cf405ca0b49a33042a0d14",
       "version_major": 2,
       "version_minor": 0
      },
      "text/plain": [
       "Batches:   0%|          | 0/1 [00:00<?, ?it/s]"
      ]
     },
     "metadata": {},
     "output_type": "display_data"
    },
    {
     "data": {
      "application/vnd.jupyter.widget-view+json": {
       "model_id": "4fab0a5de4384883a05ceb18f6413584",
       "version_major": 2,
       "version_minor": 0
      },
      "text/plain": [
       "Batches:   0%|          | 0/1 [00:00<?, ?it/s]"
      ]
     },
     "metadata": {},
     "output_type": "display_data"
    },
    {
     "data": {
      "application/vnd.jupyter.widget-view+json": {
       "model_id": "37723265b50045a2a6cbd00ce4627ccc",
       "version_major": 2,
       "version_minor": 0
      },
      "text/plain": [
       "Batches:   0%|          | 0/1 [00:00<?, ?it/s]"
      ]
     },
     "metadata": {},
     "output_type": "display_data"
    },
    {
     "data": {
      "application/vnd.jupyter.widget-view+json": {
       "model_id": "cdb9080938884506a159a6d93fba8818",
       "version_major": 2,
       "version_minor": 0
      },
      "text/plain": [
       "Batches:   0%|          | 0/1 [00:00<?, ?it/s]"
      ]
     },
     "metadata": {},
     "output_type": "display_data"
    },
    {
     "data": {
      "application/vnd.jupyter.widget-view+json": {
       "model_id": "1c7968c731a140afa09a84f4306527e5",
       "version_major": 2,
       "version_minor": 0
      },
      "text/plain": [
       "Batches:   0%|          | 0/1 [00:00<?, ?it/s]"
      ]
     },
     "metadata": {},
     "output_type": "display_data"
    },
    {
     "data": {
      "application/vnd.jupyter.widget-view+json": {
       "model_id": "2f92601f297d4eddbba688ef8af01a0e",
       "version_major": 2,
       "version_minor": 0
      },
      "text/plain": [
       "Batches:   0%|          | 0/1 [00:00<?, ?it/s]"
      ]
     },
     "metadata": {},
     "output_type": "display_data"
    },
    {
     "data": {
      "application/vnd.jupyter.widget-view+json": {
       "model_id": "d60e3640e6e046378013c13fe8cb761b",
       "version_major": 2,
       "version_minor": 0
      },
      "text/plain": [
       "Batches:   0%|          | 0/1 [00:00<?, ?it/s]"
      ]
     },
     "metadata": {},
     "output_type": "display_data"
    },
    {
     "data": {
      "application/vnd.jupyter.widget-view+json": {
       "model_id": "ec1e91c9001c4fde9a0083cf903c43b7",
       "version_major": 2,
       "version_minor": 0
      },
      "text/plain": [
       "Batches:   0%|          | 0/1 [00:00<?, ?it/s]"
      ]
     },
     "metadata": {},
     "output_type": "display_data"
    },
    {
     "data": {
      "application/vnd.jupyter.widget-view+json": {
       "model_id": "6ff5cf68ca4941a49c520893c65d077a",
       "version_major": 2,
       "version_minor": 0
      },
      "text/plain": [
       "Batches:   0%|          | 0/1 [00:00<?, ?it/s]"
      ]
     },
     "metadata": {},
     "output_type": "display_data"
    },
    {
     "data": {
      "application/vnd.jupyter.widget-view+json": {
       "model_id": "c2a0af59e9554f0fb5b846f78a1fa538",
       "version_major": 2,
       "version_minor": 0
      },
      "text/plain": [
       "Batches:   0%|          | 0/1 [00:00<?, ?it/s]"
      ]
     },
     "metadata": {},
     "output_type": "display_data"
    },
    {
     "data": {
      "application/vnd.jupyter.widget-view+json": {
       "model_id": "bcf510373f8f41d792b1e7486d4c390b",
       "version_major": 2,
       "version_minor": 0
      },
      "text/plain": [
       "Batches:   0%|          | 0/1 [00:00<?, ?it/s]"
      ]
     },
     "metadata": {},
     "output_type": "display_data"
    },
    {
     "data": {
      "application/vnd.jupyter.widget-view+json": {
       "model_id": "0cf239d205124c8094665375fff7a4b7",
       "version_major": 2,
       "version_minor": 0
      },
      "text/plain": [
       "Batches:   0%|          | 0/1 [00:00<?, ?it/s]"
      ]
     },
     "metadata": {},
     "output_type": "display_data"
    },
    {
     "data": {
      "application/vnd.jupyter.widget-view+json": {
       "model_id": "58af957f49f14e3b93e3d7adcf60ee3c",
       "version_major": 2,
       "version_minor": 0
      },
      "text/plain": [
       "Batches:   0%|          | 0/1 [00:00<?, ?it/s]"
      ]
     },
     "metadata": {},
     "output_type": "display_data"
    },
    {
     "data": {
      "application/vnd.jupyter.widget-view+json": {
       "model_id": "64206da64e7e47449107798075d37644",
       "version_major": 2,
       "version_minor": 0
      },
      "text/plain": [
       "Batches:   0%|          | 0/1 [00:00<?, ?it/s]"
      ]
     },
     "metadata": {},
     "output_type": "display_data"
    },
    {
     "data": {
      "application/vnd.jupyter.widget-view+json": {
       "model_id": "e9633141f2d448b28dee4f5fd7717082",
       "version_major": 2,
       "version_minor": 0
      },
      "text/plain": [
       "Batches:   0%|          | 0/1 [00:00<?, ?it/s]"
      ]
     },
     "metadata": {},
     "output_type": "display_data"
    },
    {
     "data": {
      "application/vnd.jupyter.widget-view+json": {
       "model_id": "fe1e8f5affae426291436b833c4b1516",
       "version_major": 2,
       "version_minor": 0
      },
      "text/plain": [
       "Batches:   0%|          | 0/1 [00:00<?, ?it/s]"
      ]
     },
     "metadata": {},
     "output_type": "display_data"
    },
    {
     "data": {
      "application/vnd.jupyter.widget-view+json": {
       "model_id": "6b0a9c9dcdfc4a4b9b4f09ebfaa2ade9",
       "version_major": 2,
       "version_minor": 0
      },
      "text/plain": [
       "Batches:   0%|          | 0/1 [00:00<?, ?it/s]"
      ]
     },
     "metadata": {},
     "output_type": "display_data"
    },
    {
     "data": {
      "application/vnd.jupyter.widget-view+json": {
       "model_id": "0dc51a55903b49b2b8c4f3aab974fd35",
       "version_major": 2,
       "version_minor": 0
      },
      "text/plain": [
       "Batches:   0%|          | 0/1 [00:00<?, ?it/s]"
      ]
     },
     "metadata": {},
     "output_type": "display_data"
    },
    {
     "data": {
      "application/vnd.jupyter.widget-view+json": {
       "model_id": "40632620666d4b35a34483e2e80af0b5",
       "version_major": 2,
       "version_minor": 0
      },
      "text/plain": [
       "Batches:   0%|          | 0/1 [00:00<?, ?it/s]"
      ]
     },
     "metadata": {},
     "output_type": "display_data"
    },
    {
     "data": {
      "application/vnd.jupyter.widget-view+json": {
       "model_id": "f3077bad733b4335a6bcb2cd14c6613b",
       "version_major": 2,
       "version_minor": 0
      },
      "text/plain": [
       "Batches:   0%|          | 0/1 [00:00<?, ?it/s]"
      ]
     },
     "metadata": {},
     "output_type": "display_data"
    },
    {
     "name": "stdout",
     "output_type": "stream",
     "text": [
      "Top 3 matches for 'मुझे हिंदी भाषा बहुत पसंद है':\n",
      "  1. 'मुझे यह भाषा बहुत पसंद है' with similarity 0.940321683883667\n",
      "  2. 'मुझे भाषा सीखना अच्छा लगता है' with similarity 0.9368987679481506\n",
      "  3. 'मुझे हिंदी सीखना पसंद है' with similarity 0.9238975048065186\n",
      "\n",
      "Top 3 matches for 'आज मौसम बहुत अच्छा है':\n",
      "  1. 'आज का मौसम बहुत अच्छा है' with similarity 0.991140604019165\n",
      "  2. 'बाहर मौसम बहुत अच्छा है' with similarity 0.982707142829895\n",
      "  3. 'आज का मौसम सुहावना है' with similarity 0.9567022323608398\n",
      "\n",
      "Top 3 matches for 'मैं स्कूल जा रहा हूँ':\n",
      "  1. 'मैं स्कूल जा रहा हूँ' with similarity 1.000000238418579\n",
      "  2. 'मैं कॉलेज जा रहा हूँ' with similarity 0.987082839012146\n",
      "  3. 'आज का मौसम बहुत अच्छा है' with similarity 0.827501118183136\n",
      "\n",
      "Top 3 matches for 'खाना बहुत स्वादिष्ट है':\n",
      "  1. 'खाना बहुत स्वादिष्ट और ताज़ा है' with similarity 0.98640376329422\n",
      "  2. 'यह खाना बहुत स्वादिष्ट है' with similarity 0.9604611396789551\n",
      "  3. 'आज का मौसम सुहावना है' with similarity 0.952528178691864\n",
      "\n"
     ]
    }
   ],
   "source": [
    "def find_top_matches(source_sentences, target_sentences, top_n=3):\n",
    "    top_matches = {}\n",
    "    for src_sent in source_sentences:\n",
    "        matches = []\n",
    "        for tgt_sent in target_sentences:\n",
    "            similarity = get_similarity(src_sent, tgt_sent)\n",
    "            matches.append((tgt_sent, similarity))\n",
    "        # Sort matches by similarity (higher similarity first) and get top N\n",
    "        top_matches[src_sent] = sorted(matches, key=lambda x: x[1], reverse=True)[:top_n]\n",
    "    return top_matches\n",
    "\n",
    "\n",
    "# Example source and target sentences\n",
    "source_sentences = [\n",
    "    \"मुझे हिंदी भाषा बहुत पसंद है\",\n",
    "    \"आज मौसम बहुत अच्छा है\",\n",
    "    \"मैं स्कूल जा रहा हूँ\",\n",
    "    \"खाना बहुत स्वादिष्ट है\"\n",
    "]\n",
    "\n",
    "target_sentences = [\n",
    "    \"मुझे हिंदी सीखना पसंद है\",\n",
    "    \"आज का मौसम सुहावना है\",\n",
    "    \"मैं स्कूल जा रहा हूँ\",\n",
    "    \"यह खाना बहुत स्वादिष्ट है\",\n",
    "    \"मुझे यह भाषा बहुत पसंद है\",\n",
    "    \"बाहर मौसम बहुत अच्छा है\",\n",
    "    \"मैं कॉलेज जा रहा हूँ\",\n",
    "    \"खाना बहुत स्वादिष्ट और ताज़ा है\",\n",
    "    \"मुझे भाषा सीखना अच्छा लगता है\",\n",
    "    \"आज का मौसम बहुत अच्छा है\"\n",
    "]\n",
    "\n",
    "# Run the experiment to find top 3 matches\n",
    "top_matches = find_top_matches(source_sentences, target_sentences, top_n=3)\n",
    "\n",
    "# Print the top 3 matches for each source sentence\n",
    "for src_sent, matches in top_matches.items():\n",
    "    print(f\"Top 3 matches for '{src_sent}':\")\n",
    "    for idx, (match_sent, similarity) in enumerate(matches, 1):\n",
    "        print(f\"  {idx}. '{match_sent}' with similarity {similarity}\")\n",
    "    print()"
   ]
  },
  {
   "cell_type": "code",
   "execution_count": 26,
   "id": "2d9af515",
   "metadata": {},
   "outputs": [
    {
     "data": {
      "application/vnd.jupyter.widget-view+json": {
       "model_id": "21732208cff74bf19143dc61030ef4cc",
       "version_major": 2,
       "version_minor": 0
      },
      "text/plain": [
       "Batches:   0%|          | 0/1 [00:00<?, ?it/s]"
      ]
     },
     "metadata": {},
     "output_type": "display_data"
    },
    {
     "data": {
      "application/vnd.jupyter.widget-view+json": {
       "model_id": "c227f29dd0484771ba2d00fa6455e170",
       "version_major": 2,
       "version_minor": 0
      },
      "text/plain": [
       "Batches:   0%|          | 0/1 [00:00<?, ?it/s]"
      ]
     },
     "metadata": {},
     "output_type": "display_data"
    },
    {
     "data": {
      "application/vnd.jupyter.widget-view+json": {
       "model_id": "7a344588096e4db1a5c082b06ad0a761",
       "version_major": 2,
       "version_minor": 0
      },
      "text/plain": [
       "Batches:   0%|          | 0/1 [00:00<?, ?it/s]"
      ]
     },
     "metadata": {},
     "output_type": "display_data"
    },
    {
     "data": {
      "application/vnd.jupyter.widget-view+json": {
       "model_id": "78eb1fea65cc4f399a3d5261c21bb3c5",
       "version_major": 2,
       "version_minor": 0
      },
      "text/plain": [
       "Batches:   0%|          | 0/1 [00:00<?, ?it/s]"
      ]
     },
     "metadata": {},
     "output_type": "display_data"
    },
    {
     "data": {
      "application/vnd.jupyter.widget-view+json": {
       "model_id": "1571b00632ce4f48978d7315e1abe32d",
       "version_major": 2,
       "version_minor": 0
      },
      "text/plain": [
       "Batches:   0%|          | 0/1 [00:00<?, ?it/s]"
      ]
     },
     "metadata": {},
     "output_type": "display_data"
    },
    {
     "data": {
      "application/vnd.jupyter.widget-view+json": {
       "model_id": "133b784ac1b142a681c2240000badc25",
       "version_major": 2,
       "version_minor": 0
      },
      "text/plain": [
       "Batches:   0%|          | 0/1 [00:00<?, ?it/s]"
      ]
     },
     "metadata": {},
     "output_type": "display_data"
    },
    {
     "data": {
      "application/vnd.jupyter.widget-view+json": {
       "model_id": "e1fbbdd56b334dbc948f7635e17eddd0",
       "version_major": 2,
       "version_minor": 0
      },
      "text/plain": [
       "Batches:   0%|          | 0/1 [00:00<?, ?it/s]"
      ]
     },
     "metadata": {},
     "output_type": "display_data"
    },
    {
     "data": {
      "application/vnd.jupyter.widget-view+json": {
       "model_id": "36750a1f8f4346bca35d5d509cb83364",
       "version_major": 2,
       "version_minor": 0
      },
      "text/plain": [
       "Batches:   0%|          | 0/1 [00:00<?, ?it/s]"
      ]
     },
     "metadata": {},
     "output_type": "display_data"
    },
    {
     "data": {
      "application/vnd.jupyter.widget-view+json": {
       "model_id": "d1b826dfad384fe1befe4e056ba25e4c",
       "version_major": 2,
       "version_minor": 0
      },
      "text/plain": [
       "Batches:   0%|          | 0/1 [00:00<?, ?it/s]"
      ]
     },
     "metadata": {},
     "output_type": "display_data"
    },
    {
     "data": {
      "application/vnd.jupyter.widget-view+json": {
       "model_id": "f8a56a97e09242d7ab76d8299d707803",
       "version_major": 2,
       "version_minor": 0
      },
      "text/plain": [
       "Batches:   0%|          | 0/1 [00:00<?, ?it/s]"
      ]
     },
     "metadata": {},
     "output_type": "display_data"
    },
    {
     "data": {
      "application/vnd.jupyter.widget-view+json": {
       "model_id": "4ea53510f7d341898f267e93be299cdc",
       "version_major": 2,
       "version_minor": 0
      },
      "text/plain": [
       "Batches:   0%|          | 0/1 [00:00<?, ?it/s]"
      ]
     },
     "metadata": {},
     "output_type": "display_data"
    },
    {
     "data": {
      "application/vnd.jupyter.widget-view+json": {
       "model_id": "b76fe9a56d944aadb2aae5b545a6b01f",
       "version_major": 2,
       "version_minor": 0
      },
      "text/plain": [
       "Batches:   0%|          | 0/1 [00:00<?, ?it/s]"
      ]
     },
     "metadata": {},
     "output_type": "display_data"
    },
    {
     "data": {
      "application/vnd.jupyter.widget-view+json": {
       "model_id": "36ca600ffe024738aac3ec51d1f5f5c5",
       "version_major": 2,
       "version_minor": 0
      },
      "text/plain": [
       "Batches:   0%|          | 0/1 [00:00<?, ?it/s]"
      ]
     },
     "metadata": {},
     "output_type": "display_data"
    },
    {
     "data": {
      "application/vnd.jupyter.widget-view+json": {
       "model_id": "e59a48effca7420c9a394d31e82f89c6",
       "version_major": 2,
       "version_minor": 0
      },
      "text/plain": [
       "Batches:   0%|          | 0/1 [00:00<?, ?it/s]"
      ]
     },
     "metadata": {},
     "output_type": "display_data"
    },
    {
     "data": {
      "application/vnd.jupyter.widget-view+json": {
       "model_id": "b7c6c2343e1e4c7fba9353cc48b5f646",
       "version_major": 2,
       "version_minor": 0
      },
      "text/plain": [
       "Batches:   0%|          | 0/1 [00:00<?, ?it/s]"
      ]
     },
     "metadata": {},
     "output_type": "display_data"
    },
    {
     "data": {
      "application/vnd.jupyter.widget-view+json": {
       "model_id": "51cbeb7f58944a8d9fd5f6f683e28645",
       "version_major": 2,
       "version_minor": 0
      },
      "text/plain": [
       "Batches:   0%|          | 0/1 [00:00<?, ?it/s]"
      ]
     },
     "metadata": {},
     "output_type": "display_data"
    },
    {
     "data": {
      "application/vnd.jupyter.widget-view+json": {
       "model_id": "518b27f42ebc4413b21dee78b6ec875c",
       "version_major": 2,
       "version_minor": 0
      },
      "text/plain": [
       "Batches:   0%|          | 0/1 [00:00<?, ?it/s]"
      ]
     },
     "metadata": {},
     "output_type": "display_data"
    },
    {
     "data": {
      "application/vnd.jupyter.widget-view+json": {
       "model_id": "4c836bd66a0348c8a5bdb83812cfaa56",
       "version_major": 2,
       "version_minor": 0
      },
      "text/plain": [
       "Batches:   0%|          | 0/1 [00:00<?, ?it/s]"
      ]
     },
     "metadata": {},
     "output_type": "display_data"
    },
    {
     "data": {
      "application/vnd.jupyter.widget-view+json": {
       "model_id": "10e40b3b17444998966cf225c4e90cfd",
       "version_major": 2,
       "version_minor": 0
      },
      "text/plain": [
       "Batches:   0%|          | 0/1 [00:00<?, ?it/s]"
      ]
     },
     "metadata": {},
     "output_type": "display_data"
    },
    {
     "data": {
      "application/vnd.jupyter.widget-view+json": {
       "model_id": "552ffef3e35c423abac83e7fbc54d4f2",
       "version_major": 2,
       "version_minor": 0
      },
      "text/plain": [
       "Batches:   0%|          | 0/1 [00:00<?, ?it/s]"
      ]
     },
     "metadata": {},
     "output_type": "display_data"
    },
    {
     "data": {
      "application/vnd.jupyter.widget-view+json": {
       "model_id": "084d68c2173744ee92a81178d779646e",
       "version_major": 2,
       "version_minor": 0
      },
      "text/plain": [
       "Batches:   0%|          | 0/1 [00:00<?, ?it/s]"
      ]
     },
     "metadata": {},
     "output_type": "display_data"
    },
    {
     "data": {
      "application/vnd.jupyter.widget-view+json": {
       "model_id": "86eba483738742ddbad701d836cdf0df",
       "version_major": 2,
       "version_minor": 0
      },
      "text/plain": [
       "Batches:   0%|          | 0/1 [00:00<?, ?it/s]"
      ]
     },
     "metadata": {},
     "output_type": "display_data"
    },
    {
     "data": {
      "application/vnd.jupyter.widget-view+json": {
       "model_id": "9e074bc75bae47afb229bb59d80780f5",
       "version_major": 2,
       "version_minor": 0
      },
      "text/plain": [
       "Batches:   0%|          | 0/1 [00:00<?, ?it/s]"
      ]
     },
     "metadata": {},
     "output_type": "display_data"
    },
    {
     "data": {
      "application/vnd.jupyter.widget-view+json": {
       "model_id": "98ebf3ac07cd4e3baf11fc5f4ae29558",
       "version_major": 2,
       "version_minor": 0
      },
      "text/plain": [
       "Batches:   0%|          | 0/1 [00:00<?, ?it/s]"
      ]
     },
     "metadata": {},
     "output_type": "display_data"
    },
    {
     "data": {
      "application/vnd.jupyter.widget-view+json": {
       "model_id": "63e27dce69b3454c82c940cc9e3edf9c",
       "version_major": 2,
       "version_minor": 0
      },
      "text/plain": [
       "Batches:   0%|          | 0/1 [00:00<?, ?it/s]"
      ]
     },
     "metadata": {},
     "output_type": "display_data"
    },
    {
     "data": {
      "application/vnd.jupyter.widget-view+json": {
       "model_id": "8246c7925fc24df6ad50c1ee5b498160",
       "version_major": 2,
       "version_minor": 0
      },
      "text/plain": [
       "Batches:   0%|          | 0/1 [00:00<?, ?it/s]"
      ]
     },
     "metadata": {},
     "output_type": "display_data"
    },
    {
     "data": {
      "application/vnd.jupyter.widget-view+json": {
       "model_id": "84971feb81e44ef98ad55692fafb3ab3",
       "version_major": 2,
       "version_minor": 0
      },
      "text/plain": [
       "Batches:   0%|          | 0/1 [00:00<?, ?it/s]"
      ]
     },
     "metadata": {},
     "output_type": "display_data"
    },
    {
     "data": {
      "application/vnd.jupyter.widget-view+json": {
       "model_id": "fb0e445ee59140138616c18623389af3",
       "version_major": 2,
       "version_minor": 0
      },
      "text/plain": [
       "Batches:   0%|          | 0/1 [00:00<?, ?it/s]"
      ]
     },
     "metadata": {},
     "output_type": "display_data"
    },
    {
     "data": {
      "application/vnd.jupyter.widget-view+json": {
       "model_id": "bbd9408e01e64c5882c01bc1be0c5618",
       "version_major": 2,
       "version_minor": 0
      },
      "text/plain": [
       "Batches:   0%|          | 0/1 [00:00<?, ?it/s]"
      ]
     },
     "metadata": {},
     "output_type": "display_data"
    },
    {
     "data": {
      "application/vnd.jupyter.widget-view+json": {
       "model_id": "d9be2cf58dbb42d087715690fd844c08",
       "version_major": 2,
       "version_minor": 0
      },
      "text/plain": [
       "Batches:   0%|          | 0/1 [00:00<?, ?it/s]"
      ]
     },
     "metadata": {},
     "output_type": "display_data"
    },
    {
     "data": {
      "application/vnd.jupyter.widget-view+json": {
       "model_id": "fa7cad9508d3458abd30c54eaa8ccb6c",
       "version_major": 2,
       "version_minor": 0
      },
      "text/plain": [
       "Batches:   0%|          | 0/1 [00:00<?, ?it/s]"
      ]
     },
     "metadata": {},
     "output_type": "display_data"
    },
    {
     "data": {
      "application/vnd.jupyter.widget-view+json": {
       "model_id": "bc62df6c3fe143c89d977dbf8f1345b6",
       "version_major": 2,
       "version_minor": 0
      },
      "text/plain": [
       "Batches:   0%|          | 0/1 [00:00<?, ?it/s]"
      ]
     },
     "metadata": {},
     "output_type": "display_data"
    },
    {
     "data": {
      "application/vnd.jupyter.widget-view+json": {
       "model_id": "9bec5efd90944998b43458e0dd7c1ef8",
       "version_major": 2,
       "version_minor": 0
      },
      "text/plain": [
       "Batches:   0%|          | 0/1 [00:00<?, ?it/s]"
      ]
     },
     "metadata": {},
     "output_type": "display_data"
    },
    {
     "data": {
      "application/vnd.jupyter.widget-view+json": {
       "model_id": "44bda59ee9df431883dcb6a6cf4bf76d",
       "version_major": 2,
       "version_minor": 0
      },
      "text/plain": [
       "Batches:   0%|          | 0/1 [00:00<?, ?it/s]"
      ]
     },
     "metadata": {},
     "output_type": "display_data"
    },
    {
     "data": {
      "application/vnd.jupyter.widget-view+json": {
       "model_id": "e295fbbb5e784cf2b2cdc426a4fe2f2b",
       "version_major": 2,
       "version_minor": 0
      },
      "text/plain": [
       "Batches:   0%|          | 0/1 [00:00<?, ?it/s]"
      ]
     },
     "metadata": {},
     "output_type": "display_data"
    },
    {
     "data": {
      "application/vnd.jupyter.widget-view+json": {
       "model_id": "d5d764f6fb8e4caeb652b29bfaa532a0",
       "version_major": 2,
       "version_minor": 0
      },
      "text/plain": [
       "Batches:   0%|          | 0/1 [00:00<?, ?it/s]"
      ]
     },
     "metadata": {},
     "output_type": "display_data"
    },
    {
     "data": {
      "application/vnd.jupyter.widget-view+json": {
       "model_id": "014bdac032cd401cb97d58d538c9bbb5",
       "version_major": 2,
       "version_minor": 0
      },
      "text/plain": [
       "Batches:   0%|          | 0/1 [00:00<?, ?it/s]"
      ]
     },
     "metadata": {},
     "output_type": "display_data"
    },
    {
     "data": {
      "application/vnd.jupyter.widget-view+json": {
       "model_id": "ee8bea1215cc434e81dbca17d93f2f3c",
       "version_major": 2,
       "version_minor": 0
      },
      "text/plain": [
       "Batches:   0%|          | 0/1 [00:00<?, ?it/s]"
      ]
     },
     "metadata": {},
     "output_type": "display_data"
    },
    {
     "data": {
      "application/vnd.jupyter.widget-view+json": {
       "model_id": "df182bfeb00f41fea658fbea3eff503a",
       "version_major": 2,
       "version_minor": 0
      },
      "text/plain": [
       "Batches:   0%|          | 0/1 [00:00<?, ?it/s]"
      ]
     },
     "metadata": {},
     "output_type": "display_data"
    },
    {
     "data": {
      "application/vnd.jupyter.widget-view+json": {
       "model_id": "02ed9a7a397145158ff9f44e5e0d7d6f",
       "version_major": 2,
       "version_minor": 0
      },
      "text/plain": [
       "Batches:   0%|          | 0/1 [00:00<?, ?it/s]"
      ]
     },
     "metadata": {},
     "output_type": "display_data"
    },
    {
     "data": {
      "application/vnd.jupyter.widget-view+json": {
       "model_id": "b34e3f44bb664eabbbb0838087408197",
       "version_major": 2,
       "version_minor": 0
      },
      "text/plain": [
       "Batches:   0%|          | 0/1 [00:00<?, ?it/s]"
      ]
     },
     "metadata": {},
     "output_type": "display_data"
    },
    {
     "data": {
      "application/vnd.jupyter.widget-view+json": {
       "model_id": "4de2fe0267f240df91178796ebbb826e",
       "version_major": 2,
       "version_minor": 0
      },
      "text/plain": [
       "Batches:   0%|          | 0/1 [00:00<?, ?it/s]"
      ]
     },
     "metadata": {},
     "output_type": "display_data"
    },
    {
     "data": {
      "application/vnd.jupyter.widget-view+json": {
       "model_id": "3c3364f4dd71451e9e2b8bb92bc3d136",
       "version_major": 2,
       "version_minor": 0
      },
      "text/plain": [
       "Batches:   0%|          | 0/1 [00:00<?, ?it/s]"
      ]
     },
     "metadata": {},
     "output_type": "display_data"
    },
    {
     "data": {
      "application/vnd.jupyter.widget-view+json": {
       "model_id": "b585a58d7dec4e4f9f841b1e7eedc9d3",
       "version_major": 2,
       "version_minor": 0
      },
      "text/plain": [
       "Batches:   0%|          | 0/1 [00:00<?, ?it/s]"
      ]
     },
     "metadata": {},
     "output_type": "display_data"
    },
    {
     "data": {
      "application/vnd.jupyter.widget-view+json": {
       "model_id": "a8a251f93c944cdd8446525ee087bc24",
       "version_major": 2,
       "version_minor": 0
      },
      "text/plain": [
       "Batches:   0%|          | 0/1 [00:00<?, ?it/s]"
      ]
     },
     "metadata": {},
     "output_type": "display_data"
    },
    {
     "data": {
      "application/vnd.jupyter.widget-view+json": {
       "model_id": "b8f9ac066f7f4ea3a498f9c94d051238",
       "version_major": 2,
       "version_minor": 0
      },
      "text/plain": [
       "Batches:   0%|          | 0/1 [00:00<?, ?it/s]"
      ]
     },
     "metadata": {},
     "output_type": "display_data"
    },
    {
     "data": {
      "application/vnd.jupyter.widget-view+json": {
       "model_id": "4b72bcea3f4f4e17b05b92971a6610c4",
       "version_major": 2,
       "version_minor": 0
      },
      "text/plain": [
       "Batches:   0%|          | 0/1 [00:00<?, ?it/s]"
      ]
     },
     "metadata": {},
     "output_type": "display_data"
    },
    {
     "data": {
      "application/vnd.jupyter.widget-view+json": {
       "model_id": "e5c7a91c5f0944cca144939d21955c56",
       "version_major": 2,
       "version_minor": 0
      },
      "text/plain": [
       "Batches:   0%|          | 0/1 [00:00<?, ?it/s]"
      ]
     },
     "metadata": {},
     "output_type": "display_data"
    },
    {
     "data": {
      "application/vnd.jupyter.widget-view+json": {
       "model_id": "893dcc3556ac42269bf326b9ed5859a0",
       "version_major": 2,
       "version_minor": 0
      },
      "text/plain": [
       "Batches:   0%|          | 0/1 [00:00<?, ?it/s]"
      ]
     },
     "metadata": {},
     "output_type": "display_data"
    },
    {
     "data": {
      "application/vnd.jupyter.widget-view+json": {
       "model_id": "fcca22b2c8164db7aea5d51fe8742356",
       "version_major": 2,
       "version_minor": 0
      },
      "text/plain": [
       "Batches:   0%|          | 0/1 [00:00<?, ?it/s]"
      ]
     },
     "metadata": {},
     "output_type": "display_data"
    },
    {
     "data": {
      "application/vnd.jupyter.widget-view+json": {
       "model_id": "a7ee5779a061410285c7b703481f5968",
       "version_major": 2,
       "version_minor": 0
      },
      "text/plain": [
       "Batches:   0%|          | 0/1 [00:00<?, ?it/s]"
      ]
     },
     "metadata": {},
     "output_type": "display_data"
    },
    {
     "data": {
      "application/vnd.jupyter.widget-view+json": {
       "model_id": "cb59102087fa4db2ba7cb5926981aad2",
       "version_major": 2,
       "version_minor": 0
      },
      "text/plain": [
       "Batches:   0%|          | 0/1 [00:00<?, ?it/s]"
      ]
     },
     "metadata": {},
     "output_type": "display_data"
    },
    {
     "data": {
      "application/vnd.jupyter.widget-view+json": {
       "model_id": "32e63a09004b4f1f82e8c2db44940f7f",
       "version_major": 2,
       "version_minor": 0
      },
      "text/plain": [
       "Batches:   0%|          | 0/1 [00:00<?, ?it/s]"
      ]
     },
     "metadata": {},
     "output_type": "display_data"
    },
    {
     "data": {
      "application/vnd.jupyter.widget-view+json": {
       "model_id": "8057511e4abc4e4eaa34260f865bba5d",
       "version_major": 2,
       "version_minor": 0
      },
      "text/plain": [
       "Batches:   0%|          | 0/1 [00:00<?, ?it/s]"
      ]
     },
     "metadata": {},
     "output_type": "display_data"
    },
    {
     "data": {
      "application/vnd.jupyter.widget-view+json": {
       "model_id": "f93f345814894545a200030133324a95",
       "version_major": 2,
       "version_minor": 0
      },
      "text/plain": [
       "Batches:   0%|          | 0/1 [00:00<?, ?it/s]"
      ]
     },
     "metadata": {},
     "output_type": "display_data"
    },
    {
     "data": {
      "application/vnd.jupyter.widget-view+json": {
       "model_id": "708ac1bc2c554f49929e8023345c5d67",
       "version_major": 2,
       "version_minor": 0
      },
      "text/plain": [
       "Batches:   0%|          | 0/1 [00:00<?, ?it/s]"
      ]
     },
     "metadata": {},
     "output_type": "display_data"
    },
    {
     "data": {
      "application/vnd.jupyter.widget-view+json": {
       "model_id": "7424f3c774fe4d3f90daf5088cb57a88",
       "version_major": 2,
       "version_minor": 0
      },
      "text/plain": [
       "Batches:   0%|          | 0/1 [00:00<?, ?it/s]"
      ]
     },
     "metadata": {},
     "output_type": "display_data"
    },
    {
     "data": {
      "application/vnd.jupyter.widget-view+json": {
       "model_id": "f8e9808069f9435b87a5bf8f75634b28",
       "version_major": 2,
       "version_minor": 0
      },
      "text/plain": [
       "Batches:   0%|          | 0/1 [00:00<?, ?it/s]"
      ]
     },
     "metadata": {},
     "output_type": "display_data"
    },
    {
     "data": {
      "application/vnd.jupyter.widget-view+json": {
       "model_id": "bf7a8538e1a849b1abe665a98b6fd117",
       "version_major": 2,
       "version_minor": 0
      },
      "text/plain": [
       "Batches:   0%|          | 0/1 [00:00<?, ?it/s]"
      ]
     },
     "metadata": {},
     "output_type": "display_data"
    },
    {
     "data": {
      "application/vnd.jupyter.widget-view+json": {
       "model_id": "850394ef6eed4e6f9c6f4195fdb4326e",
       "version_major": 2,
       "version_minor": 0
      },
      "text/plain": [
       "Batches:   0%|          | 0/1 [00:00<?, ?it/s]"
      ]
     },
     "metadata": {},
     "output_type": "display_data"
    },
    {
     "data": {
      "application/vnd.jupyter.widget-view+json": {
       "model_id": "0803865a6ec5448ab719a56bde1b072c",
       "version_major": 2,
       "version_minor": 0
      },
      "text/plain": [
       "Batches:   0%|          | 0/1 [00:00<?, ?it/s]"
      ]
     },
     "metadata": {},
     "output_type": "display_data"
    },
    {
     "data": {
      "application/vnd.jupyter.widget-view+json": {
       "model_id": "7d4444c9beb54e2cbc4bad7fc9553422",
       "version_major": 2,
       "version_minor": 0
      },
      "text/plain": [
       "Batches:   0%|          | 0/1 [00:00<?, ?it/s]"
      ]
     },
     "metadata": {},
     "output_type": "display_data"
    },
    {
     "data": {
      "application/vnd.jupyter.widget-view+json": {
       "model_id": "4aa77f3ca56b4bf6a9ef63d7b5fe6c2b",
       "version_major": 2,
       "version_minor": 0
      },
      "text/plain": [
       "Batches:   0%|          | 0/1 [00:00<?, ?it/s]"
      ]
     },
     "metadata": {},
     "output_type": "display_data"
    },
    {
     "data": {
      "application/vnd.jupyter.widget-view+json": {
       "model_id": "f478f192b2084fc19380d6fdfd14c225",
       "version_major": 2,
       "version_minor": 0
      },
      "text/plain": [
       "Batches:   0%|          | 0/1 [00:00<?, ?it/s]"
      ]
     },
     "metadata": {},
     "output_type": "display_data"
    },
    {
     "data": {
      "application/vnd.jupyter.widget-view+json": {
       "model_id": "bf9c85aea0e74808b8eedf2020f8b808",
       "version_major": 2,
       "version_minor": 0
      },
      "text/plain": [
       "Batches:   0%|          | 0/1 [00:00<?, ?it/s]"
      ]
     },
     "metadata": {},
     "output_type": "display_data"
    },
    {
     "data": {
      "application/vnd.jupyter.widget-view+json": {
       "model_id": "22d4e9c8dc954c679e0bde804d0441fc",
       "version_major": 2,
       "version_minor": 0
      },
      "text/plain": [
       "Batches:   0%|          | 0/1 [00:00<?, ?it/s]"
      ]
     },
     "metadata": {},
     "output_type": "display_data"
    },
    {
     "data": {
      "application/vnd.jupyter.widget-view+json": {
       "model_id": "82fc9bf79caa441cad79109c71a45dd5",
       "version_major": 2,
       "version_minor": 0
      },
      "text/plain": [
       "Batches:   0%|          | 0/1 [00:00<?, ?it/s]"
      ]
     },
     "metadata": {},
     "output_type": "display_data"
    },
    {
     "data": {
      "application/vnd.jupyter.widget-view+json": {
       "model_id": "293e67c345e74054a15098d9ee9b6a78",
       "version_major": 2,
       "version_minor": 0
      },
      "text/plain": [
       "Batches:   0%|          | 0/1 [00:00<?, ?it/s]"
      ]
     },
     "metadata": {},
     "output_type": "display_data"
    },
    {
     "data": {
      "application/vnd.jupyter.widget-view+json": {
       "model_id": "e680657e73684fdaa11877185d9e105a",
       "version_major": 2,
       "version_minor": 0
      },
      "text/plain": [
       "Batches:   0%|          | 0/1 [00:00<?, ?it/s]"
      ]
     },
     "metadata": {},
     "output_type": "display_data"
    },
    {
     "data": {
      "application/vnd.jupyter.widget-view+json": {
       "model_id": "51e4e875db554d03a71693405a753793",
       "version_major": 2,
       "version_minor": 0
      },
      "text/plain": [
       "Batches:   0%|          | 0/1 [00:00<?, ?it/s]"
      ]
     },
     "metadata": {},
     "output_type": "display_data"
    },
    {
     "data": {
      "application/vnd.jupyter.widget-view+json": {
       "model_id": "d476139b9f3446eda727ca2baf978d1c",
       "version_major": 2,
       "version_minor": 0
      },
      "text/plain": [
       "Batches:   0%|          | 0/1 [00:00<?, ?it/s]"
      ]
     },
     "metadata": {},
     "output_type": "display_data"
    },
    {
     "data": {
      "application/vnd.jupyter.widget-view+json": {
       "model_id": "8072a2e33ae54399919b5e3c5bfff326",
       "version_major": 2,
       "version_minor": 0
      },
      "text/plain": [
       "Batches:   0%|          | 0/1 [00:00<?, ?it/s]"
      ]
     },
     "metadata": {},
     "output_type": "display_data"
    },
    {
     "data": {
      "application/vnd.jupyter.widget-view+json": {
       "model_id": "1aeaa16d1e564f4e92081eed83016248",
       "version_major": 2,
       "version_minor": 0
      },
      "text/plain": [
       "Batches:   0%|          | 0/1 [00:00<?, ?it/s]"
      ]
     },
     "metadata": {},
     "output_type": "display_data"
    },
    {
     "data": {
      "application/vnd.jupyter.widget-view+json": {
       "model_id": "ddbc55ec4ea34aa6983d9a0bcd7543ff",
       "version_major": 2,
       "version_minor": 0
      },
      "text/plain": [
       "Batches:   0%|          | 0/1 [00:00<?, ?it/s]"
      ]
     },
     "metadata": {},
     "output_type": "display_data"
    },
    {
     "data": {
      "application/vnd.jupyter.widget-view+json": {
       "model_id": "ff8c6395557b4f6296b2b219fc3ab679",
       "version_major": 2,
       "version_minor": 0
      },
      "text/plain": [
       "Batches:   0%|          | 0/1 [00:00<?, ?it/s]"
      ]
     },
     "metadata": {},
     "output_type": "display_data"
    },
    {
     "data": {
      "application/vnd.jupyter.widget-view+json": {
       "model_id": "177968e4dc4f40d29ff4d948791805bd",
       "version_major": 2,
       "version_minor": 0
      },
      "text/plain": [
       "Batches:   0%|          | 0/1 [00:00<?, ?it/s]"
      ]
     },
     "metadata": {},
     "output_type": "display_data"
    },
    {
     "data": {
      "application/vnd.jupyter.widget-view+json": {
       "model_id": "1d7d3021345446b4887e5d96ef40f661",
       "version_major": 2,
       "version_minor": 0
      },
      "text/plain": [
       "Batches:   0%|          | 0/1 [00:00<?, ?it/s]"
      ]
     },
     "metadata": {},
     "output_type": "display_data"
    },
    {
     "data": {
      "application/vnd.jupyter.widget-view+json": {
       "model_id": "1320e75b889c4f60be9dd8e0c5353925",
       "version_major": 2,
       "version_minor": 0
      },
      "text/plain": [
       "Batches:   0%|          | 0/1 [00:00<?, ?it/s]"
      ]
     },
     "metadata": {},
     "output_type": "display_data"
    },
    {
     "data": {
      "application/vnd.jupyter.widget-view+json": {
       "model_id": "3a256fd9069242e3b0d7da6e06c6c40b",
       "version_major": 2,
       "version_minor": 0
      },
      "text/plain": [
       "Batches:   0%|          | 0/1 [00:00<?, ?it/s]"
      ]
     },
     "metadata": {},
     "output_type": "display_data"
    },
    {
     "data": {
      "application/vnd.jupyter.widget-view+json": {
       "model_id": "4e8e62615f15444db5601220d8c6ade2",
       "version_major": 2,
       "version_minor": 0
      },
      "text/plain": [
       "Batches:   0%|          | 0/1 [00:00<?, ?it/s]"
      ]
     },
     "metadata": {},
     "output_type": "display_data"
    },
    {
     "name": "stdout",
     "output_type": "stream",
     "text": [
      "Top 3 matches for 'मुझे यह फ़िल्म बहुत पसंद है, क्या तुमने देखी है?':\n",
      "  1. 'मुझे भी यह फ़िल्म बहुत अच्छी लगी, मैंने कई बार देखी है।' with similarity 0.7783318758010864\n",
      "  2. 'फिल्म देखना मेरी पसंद है, मुझे वह बहुत पसंद है।' with similarity 0.7720270752906799\n",
      "  3. 'यह किताब तुम्हारे लिए कितनी महत्वपूर्ण है, वह मुझे बताओ।' with similarity 0.6688283085823059\n",
      "\n",
      "Top 3 matches for 'यह किताब मेरे लिए बहुत महत्वपूर्ण है।':\n",
      "  1. 'यह विषय मुझे बहुत पसंद है, मैंने इसकी अध्ययन बहुत किया है।' with similarity 0.9512735605239868\n",
      "  2. 'यह किताब तुम्हारे लिए कितनी महत्वपूर्ण है, वह मुझे बताओ।' with similarity 0.8466460108757019\n",
      "  3. 'वह किताब मेरी पसंद की है, मुझे भी बहुत अच्छी लगी।' with similarity 0.8373582363128662\n",
      "\n",
      "Top 3 matches for 'क्या तुम्हारे पास कोई अच्छा समाधान है इस समस्या का?':\n",
      "  1. 'क्या तुम्हें इस समस्या का कोई नया समाधान पता है?' with similarity 0.9907006621360779\n",
      "  2. 'क्या तुम्हें इस समस्या का कोई अन्य समाधान आता है?' with similarity 0.987912654876709\n",
      "  3. 'यह किताब तुम्हारे लिए कितनी महत्वपूर्ण है, वह मुझे बताओ।' with similarity 0.7371386289596558\n",
      "\n",
      "Top 3 matches for 'वह खुश है अपने नए काम से।':\n",
      "  1. 'उसके काम में बहुत बदलाव आया है, अब वह खुश है।' with similarity 0.8675140738487244\n",
      "  2. 'उसका नया काम उसे बहुत खुश कर रहा है।' with similarity 0.8587964773178101\n",
      "  3. 'वह किताब मेरी पसंद की है, मुझे भी बहुत अच्छी लगी।' with similarity 0.812878429889679\n",
      "\n"
     ]
    }
   ],
   "source": [
    "# Source Sentences\n",
    "source_sentences = [\n",
    "    \"मुझे यह फ़िल्म बहुत पसंद है, क्या तुमने देखी है?\",\n",
    "    \"यह किताब मेरे लिए बहुत महत्वपूर्ण है।\",\n",
    "    \"क्या तुम्हारे पास कोई अच्छा समाधान है इस समस्या का?\",\n",
    "    \"वह खुश है अपने नए काम से।\"\n",
    "]\n",
    "\n",
    "# Target Sentences\n",
    "target_sentences = [\n",
    "    \"मुझे भी यह फ़िल्म बहुत अच्छी लगी, मैंने कई बार देखी है।\",\n",
    "    \"यह किताब तुम्हारे लिए कितनी महत्वपूर्ण है, वह मुझे बताओ।\",\n",
    "    \"क्या तुम्हें इस समस्या का कोई नया समाधान पता है?\",\n",
    "    \"उसका नया काम उसे बहुत खुश कर रहा है।\",\n",
    "    \"फिल्म देखना मेरी पसंद है, मुझे वह बहुत पसंद है।\",\n",
    "    \"यहाँ पर फ़िल्म नहीं दिखाई जा रही है, कल आएगी।\",\n",
    "    \"वह किताब मेरी पसंद की है, मुझे भी बहुत अच्छी लगी।\",\n",
    "    \"यह विषय मुझे बहुत पसंद है, मैंने इसकी अध्ययन बहुत किया है।\",\n",
    "    \"क्या तुम्हें इस समस्या का कोई अन्य समाधान आता है?\",\n",
    "    \"उसके काम में बहुत बदलाव आया है, अब वह खुश है।\"\n",
    "]\n",
    "\n",
    "# Run the experiment to find top 3 matches\n",
    "top_matches = find_top_matches(source_sentences, target_sentences, top_n=3)\n",
    "\n",
    "# Print the top 3 matches for each source sentence\n",
    "for src_sent, matches in top_matches.items():\n",
    "    print(f\"Top 3 matches for '{src_sent}':\")\n",
    "    for idx, (match_sent, similarity) in enumerate(matches, 1):\n",
    "        print(f\"  {idx}. '{match_sent}' with similarity {similarity}\")\n",
    "    print()"
   ]
  },
  {
   "cell_type": "code",
   "execution_count": null,
   "id": "469a532e",
   "metadata": {},
   "outputs": [],
   "source": []
  },
  {
   "cell_type": "code",
   "execution_count": 27,
   "id": "49d2b1cd",
   "metadata": {},
   "outputs": [],
   "source": [
    "target_sentences = [\"नरेन्द्र मोदी का जन्म तत्कालीन बॉम्बे राज्य के महेसाना जिला स्थित वडनगर ग्राम में हीराबेन मोदी और दामोदरदास मूलचन्द मोदी के एक मध्यम-वर्गीय परिवार में १७ सितम्बर १९५० को हुआ था।[ वह पैदा हुए छह बच्चों में तीसरे थे। मोदी का परिवार 'मोध-घांची-तेली' समुदाय से था, जिसे भारत सरकार द्वारा अन्य पिछड़ा वर्ग के रूप में वर्गीकृत किया जाता है। वह पूर्णत: शाकाहारी हैं। भारत पाकिस्तान के बीच द्वितीय युद्ध के दौरान अपने तरुणकाल में उन्होंने स्वेच्छा से रेलवे स्टेशनों पर सफ़र कर रहे सैनिकों की सेवा की। युवावस्था में वह छात्र संगठन अखिल भारतीय विद्यार्थी परिषद में शामिल हुए | \",\n",
    "\"उन्होंने साथ ही साथ भ्रष्टाचार विरोधी नव निर्माण आन्दोलन में हिस्सा लिया। एक पूर्णकालिक आयोजक के रूप में कार्य करने के पश्चात् उन्हें भारतीय जनता पार्टी में संगठन का प्रतिनिधि मनोनीत किया गया।  किशोरावस्था में अपने भाई के साथ एक चाय की दुकान चला चुके मोदी ने अपनी स्कूली शिक्षा वड़नगर में पूरी की।[28] उन्होंने आरएसएस के प्रचारक रहते हुए 1980 में गुजरात विश्वविद्यालय से राजनीति विज्ञान में स्नातकोत्तर परीक्षा दी और विज्ञान स्नातकोत्तर की डिग्री प्राप्त की।\",\n",
    "\"अपने माता-पिता की कुल छ: सन्तानों में तीसरे पुत्र नरेन्द्र ने बचपन में रेलवे स्टेशन पर चाय बेचने में अपने पिता का भी हाथ बँटाया। बड़नगर के ही एक स्कूल मास्टर के अनुसार नरेन्द्र हालाँकि एक औसत दर्ज़े का छात्र था, लेकिन वाद-विवाद और नाटक प्रतियोगिताओं में उसकी बेहद रुचि थी। इसके अलावा उसकी रुचि राजनीतिक विषयों पर नयी-नयी परियोजनाएँ प्रारम्भ करने की भी थी।\",\n",
    "\"13 वर्ष की आयु में नरेन्द्र की सगाई जसोदा बेन चमनलाल के साथ कर दी गयी और जब उनका विवाह हुआ, तब वह मात्र 17 वर्ष के थे। फाइनेंशियल एक्सप्रेस की एक खबर के अनुसार पति-पत्नी ने कुछ वर्ष साथ रहकर बिताये। परन्तु कुछ समय बाद वे दोनों एक दूसरे के लिये अजनबी हो गये क्योंकि नरेन्द्र मोदी ने उनसे कुछ ऐसी ही इच्छा व्यक्त की थी।जबकि नरेन्द्र मोदी के जीवनी-लेखक ऐसा नहीं मानते। उनका कहना है:\",\n",
    "\"उन दोनों की शादी जरूर हुई परन्तु वे दोनों एक साथ कभी नहीं रहे। शादी के कुछ बरसों बाद नरेन्द्र मोदी ने घर त्याग दिया और एक प्रकार से उनका वैवाहिक जीवन लगभग समाप्त-सा ही हो गया।,पिछले चार विधान सभा चुनावों में अपनी वैवाहिक स्थिति पर खामोश रहने के बाद नरेन्द्र मोदी ने कहा कि अविवाहित रहने की जानकारी देकर उन्होंने कोई पाप नहीं किया। नरेन्द्र मोदी के मुताबिक एक शादीशुदा के मुकाबले अविवाहित व्यक्ति भ्रष्टाचार के ख़िलाफ़ जोरदार तरीके से लड़ सकता है क्योंकि उसे अपनी पत्नी, परिवार व बालबच्चों की कोई चिन्ता नहीं रहती।[ हालांकि नरेन्द्र मोदी ने शपथ पत्र प्रस्तुत कर जसोदाबेन को अपनी पत्नी स्वीकार किया है।\"\n",
    "]\n",
    "\n",
    "source_sentences = [\"नरेंद्र मोदी का जन्म कहाँ हुआ था और उनके परिवार की क्या पृष्ठभूमि थी?\",\n",
    "\"द्वितीय भारत-पाकिस्तान युद्ध के दौरान नरेंद्र मोदी ने कैसे योगदान दिया था?\",\n",
    "\"नरेंद्र मोदी का शैक्षिक पृष्ठभूमि और पहले करियर क्या था?\",\n",
    "\"नरेंद्र मोदी ने 17 वर्ष की आयु में किससे विवाह किया था और उनके संबंध में बाद में क्या हुआ?\",\n",
    "\"नरेंद्र मोदी अपनी वैवाहिक स्थिति को अपने भ्रष्टाचार विरुद्ध लड़ाई से कैसे जोड़ते हैं?\"\n",
    "]"
   ]
  },
  {
   "cell_type": "code",
   "execution_count": 28,
   "id": "4f7254c1",
   "metadata": {},
   "outputs": [
    {
     "data": {
      "application/vnd.jupyter.widget-view+json": {
       "model_id": "26d5874e346f4959b8fcf7c0c955e9fd",
       "version_major": 2,
       "version_minor": 0
      },
      "text/plain": [
       "Batches:   0%|          | 0/1 [00:00<?, ?it/s]"
      ]
     },
     "metadata": {},
     "output_type": "display_data"
    },
    {
     "data": {
      "application/vnd.jupyter.widget-view+json": {
       "model_id": "c86d3e09abe74799bcd293b1febb5db9",
       "version_major": 2,
       "version_minor": 0
      },
      "text/plain": [
       "Batches:   0%|          | 0/1 [00:00<?, ?it/s]"
      ]
     },
     "metadata": {},
     "output_type": "display_data"
    },
    {
     "data": {
      "application/vnd.jupyter.widget-view+json": {
       "model_id": "ebe7fa1944264c9299cc8161152a0c76",
       "version_major": 2,
       "version_minor": 0
      },
      "text/plain": [
       "Batches:   0%|          | 0/1 [00:00<?, ?it/s]"
      ]
     },
     "metadata": {},
     "output_type": "display_data"
    },
    {
     "data": {
      "application/vnd.jupyter.widget-view+json": {
       "model_id": "e7d160cbcc934304ad31fbf941e47df6",
       "version_major": 2,
       "version_minor": 0
      },
      "text/plain": [
       "Batches:   0%|          | 0/1 [00:00<?, ?it/s]"
      ]
     },
     "metadata": {},
     "output_type": "display_data"
    },
    {
     "data": {
      "application/vnd.jupyter.widget-view+json": {
       "model_id": "579d1bc5fe8d4713b07c0d354af8d9ad",
       "version_major": 2,
       "version_minor": 0
      },
      "text/plain": [
       "Batches:   0%|          | 0/1 [00:00<?, ?it/s]"
      ]
     },
     "metadata": {},
     "output_type": "display_data"
    },
    {
     "data": {
      "application/vnd.jupyter.widget-view+json": {
       "model_id": "160ba15d812144c78a27a618551503c3",
       "version_major": 2,
       "version_minor": 0
      },
      "text/plain": [
       "Batches:   0%|          | 0/1 [00:00<?, ?it/s]"
      ]
     },
     "metadata": {},
     "output_type": "display_data"
    },
    {
     "data": {
      "application/vnd.jupyter.widget-view+json": {
       "model_id": "33097d5fbe8a4bc9b6ccb190aee0d0d4",
       "version_major": 2,
       "version_minor": 0
      },
      "text/plain": [
       "Batches:   0%|          | 0/1 [00:00<?, ?it/s]"
      ]
     },
     "metadata": {},
     "output_type": "display_data"
    },
    {
     "data": {
      "application/vnd.jupyter.widget-view+json": {
       "model_id": "a530eb9a11ca471caec8c83ecab9f9fb",
       "version_major": 2,
       "version_minor": 0
      },
      "text/plain": [
       "Batches:   0%|          | 0/1 [00:00<?, ?it/s]"
      ]
     },
     "metadata": {},
     "output_type": "display_data"
    },
    {
     "data": {
      "application/vnd.jupyter.widget-view+json": {
       "model_id": "fab288c8cc824df4841628a69ccd1308",
       "version_major": 2,
       "version_minor": 0
      },
      "text/plain": [
       "Batches:   0%|          | 0/1 [00:00<?, ?it/s]"
      ]
     },
     "metadata": {},
     "output_type": "display_data"
    },
    {
     "data": {
      "application/vnd.jupyter.widget-view+json": {
       "model_id": "c45bcf3c2fa04b71972210823aba20b7",
       "version_major": 2,
       "version_minor": 0
      },
      "text/plain": [
       "Batches:   0%|          | 0/1 [00:00<?, ?it/s]"
      ]
     },
     "metadata": {},
     "output_type": "display_data"
    },
    {
     "data": {
      "application/vnd.jupyter.widget-view+json": {
       "model_id": "bc7e87b09c1948ee8985d4a04d70d5d2",
       "version_major": 2,
       "version_minor": 0
      },
      "text/plain": [
       "Batches:   0%|          | 0/1 [00:00<?, ?it/s]"
      ]
     },
     "metadata": {},
     "output_type": "display_data"
    },
    {
     "data": {
      "application/vnd.jupyter.widget-view+json": {
       "model_id": "7dcedb2233d14ff5be541bc5876f81c2",
       "version_major": 2,
       "version_minor": 0
      },
      "text/plain": [
       "Batches:   0%|          | 0/1 [00:00<?, ?it/s]"
      ]
     },
     "metadata": {},
     "output_type": "display_data"
    },
    {
     "data": {
      "application/vnd.jupyter.widget-view+json": {
       "model_id": "aec1baf72d7b46a78f3fb5a3a399a8bd",
       "version_major": 2,
       "version_minor": 0
      },
      "text/plain": [
       "Batches:   0%|          | 0/1 [00:00<?, ?it/s]"
      ]
     },
     "metadata": {},
     "output_type": "display_data"
    },
    {
     "data": {
      "application/vnd.jupyter.widget-view+json": {
       "model_id": "a2a73438184f4edf9571ad8b52e78b76",
       "version_major": 2,
       "version_minor": 0
      },
      "text/plain": [
       "Batches:   0%|          | 0/1 [00:00<?, ?it/s]"
      ]
     },
     "metadata": {},
     "output_type": "display_data"
    },
    {
     "data": {
      "application/vnd.jupyter.widget-view+json": {
       "model_id": "4fd9ea39233c45b0af0bf134978565bb",
       "version_major": 2,
       "version_minor": 0
      },
      "text/plain": [
       "Batches:   0%|          | 0/1 [00:00<?, ?it/s]"
      ]
     },
     "metadata": {},
     "output_type": "display_data"
    },
    {
     "data": {
      "application/vnd.jupyter.widget-view+json": {
       "model_id": "4f6a10b273bf4bbca4cc8a3268df844c",
       "version_major": 2,
       "version_minor": 0
      },
      "text/plain": [
       "Batches:   0%|          | 0/1 [00:00<?, ?it/s]"
      ]
     },
     "metadata": {},
     "output_type": "display_data"
    },
    {
     "data": {
      "application/vnd.jupyter.widget-view+json": {
       "model_id": "291c80f26f3a43ee9bb32770b7153239",
       "version_major": 2,
       "version_minor": 0
      },
      "text/plain": [
       "Batches:   0%|          | 0/1 [00:00<?, ?it/s]"
      ]
     },
     "metadata": {},
     "output_type": "display_data"
    },
    {
     "data": {
      "application/vnd.jupyter.widget-view+json": {
       "model_id": "7e4f8a28a7054fb499dbfe22e20361e0",
       "version_major": 2,
       "version_minor": 0
      },
      "text/plain": [
       "Batches:   0%|          | 0/1 [00:00<?, ?it/s]"
      ]
     },
     "metadata": {},
     "output_type": "display_data"
    },
    {
     "data": {
      "application/vnd.jupyter.widget-view+json": {
       "model_id": "f2a543125b4b47efb4c9b0549b058075",
       "version_major": 2,
       "version_minor": 0
      },
      "text/plain": [
       "Batches:   0%|          | 0/1 [00:00<?, ?it/s]"
      ]
     },
     "metadata": {},
     "output_type": "display_data"
    },
    {
     "data": {
      "application/vnd.jupyter.widget-view+json": {
       "model_id": "27476788dac145b586533688080c4371",
       "version_major": 2,
       "version_minor": 0
      },
      "text/plain": [
       "Batches:   0%|          | 0/1 [00:00<?, ?it/s]"
      ]
     },
     "metadata": {},
     "output_type": "display_data"
    },
    {
     "data": {
      "application/vnd.jupyter.widget-view+json": {
       "model_id": "06a78040b5e34b648d868d3070d68008",
       "version_major": 2,
       "version_minor": 0
      },
      "text/plain": [
       "Batches:   0%|          | 0/1 [00:00<?, ?it/s]"
      ]
     },
     "metadata": {},
     "output_type": "display_data"
    },
    {
     "data": {
      "application/vnd.jupyter.widget-view+json": {
       "model_id": "38f4dec0d4054d0b895991c4f8b2bd44",
       "version_major": 2,
       "version_minor": 0
      },
      "text/plain": [
       "Batches:   0%|          | 0/1 [00:00<?, ?it/s]"
      ]
     },
     "metadata": {},
     "output_type": "display_data"
    },
    {
     "data": {
      "application/vnd.jupyter.widget-view+json": {
       "model_id": "7b7345dc3dd240448e53b867813ad86f",
       "version_major": 2,
       "version_minor": 0
      },
      "text/plain": [
       "Batches:   0%|          | 0/1 [00:00<?, ?it/s]"
      ]
     },
     "metadata": {},
     "output_type": "display_data"
    },
    {
     "data": {
      "application/vnd.jupyter.widget-view+json": {
       "model_id": "fcf0ca5d40934823a50f8324fb0dba7c",
       "version_major": 2,
       "version_minor": 0
      },
      "text/plain": [
       "Batches:   0%|          | 0/1 [00:00<?, ?it/s]"
      ]
     },
     "metadata": {},
     "output_type": "display_data"
    },
    {
     "data": {
      "application/vnd.jupyter.widget-view+json": {
       "model_id": "b7b0463a76614c89bc39e87436fe9cae",
       "version_major": 2,
       "version_minor": 0
      },
      "text/plain": [
       "Batches:   0%|          | 0/1 [00:00<?, ?it/s]"
      ]
     },
     "metadata": {},
     "output_type": "display_data"
    },
    {
     "data": {
      "application/vnd.jupyter.widget-view+json": {
       "model_id": "093756b9f53c4a6bb3f90fba3cc196cd",
       "version_major": 2,
       "version_minor": 0
      },
      "text/plain": [
       "Batches:   0%|          | 0/1 [00:00<?, ?it/s]"
      ]
     },
     "metadata": {},
     "output_type": "display_data"
    },
    {
     "data": {
      "application/vnd.jupyter.widget-view+json": {
       "model_id": "130057393ab446fdb52b1036191562b4",
       "version_major": 2,
       "version_minor": 0
      },
      "text/plain": [
       "Batches:   0%|          | 0/1 [00:00<?, ?it/s]"
      ]
     },
     "metadata": {},
     "output_type": "display_data"
    },
    {
     "data": {
      "application/vnd.jupyter.widget-view+json": {
       "model_id": "c8b62cac33a24dde838256e7370e0269",
       "version_major": 2,
       "version_minor": 0
      },
      "text/plain": [
       "Batches:   0%|          | 0/1 [00:00<?, ?it/s]"
      ]
     },
     "metadata": {},
     "output_type": "display_data"
    },
    {
     "data": {
      "application/vnd.jupyter.widget-view+json": {
       "model_id": "717946d4ecd6498cab778c83bf24a34c",
       "version_major": 2,
       "version_minor": 0
      },
      "text/plain": [
       "Batches:   0%|          | 0/1 [00:00<?, ?it/s]"
      ]
     },
     "metadata": {},
     "output_type": "display_data"
    },
    {
     "data": {
      "application/vnd.jupyter.widget-view+json": {
       "model_id": "4f19f26d9aae48f8b0529c912fc917cc",
       "version_major": 2,
       "version_minor": 0
      },
      "text/plain": [
       "Batches:   0%|          | 0/1 [00:00<?, ?it/s]"
      ]
     },
     "metadata": {},
     "output_type": "display_data"
    },
    {
     "data": {
      "application/vnd.jupyter.widget-view+json": {
       "model_id": "40091b32c93a48c0a62b319849b792ac",
       "version_major": 2,
       "version_minor": 0
      },
      "text/plain": [
       "Batches:   0%|          | 0/1 [00:00<?, ?it/s]"
      ]
     },
     "metadata": {},
     "output_type": "display_data"
    },
    {
     "data": {
      "application/vnd.jupyter.widget-view+json": {
       "model_id": "dd37d5834a014c38a5bfb0a092a0c878",
       "version_major": 2,
       "version_minor": 0
      },
      "text/plain": [
       "Batches:   0%|          | 0/1 [00:00<?, ?it/s]"
      ]
     },
     "metadata": {},
     "output_type": "display_data"
    },
    {
     "data": {
      "application/vnd.jupyter.widget-view+json": {
       "model_id": "5041c434b299486c90cf7da9f3da83fb",
       "version_major": 2,
       "version_minor": 0
      },
      "text/plain": [
       "Batches:   0%|          | 0/1 [00:00<?, ?it/s]"
      ]
     },
     "metadata": {},
     "output_type": "display_data"
    },
    {
     "data": {
      "application/vnd.jupyter.widget-view+json": {
       "model_id": "52a051880fe641508ffdde5df09f5720",
       "version_major": 2,
       "version_minor": 0
      },
      "text/plain": [
       "Batches:   0%|          | 0/1 [00:00<?, ?it/s]"
      ]
     },
     "metadata": {},
     "output_type": "display_data"
    },
    {
     "data": {
      "application/vnd.jupyter.widget-view+json": {
       "model_id": "d6b26213356b446fb25c51f3bff8188d",
       "version_major": 2,
       "version_minor": 0
      },
      "text/plain": [
       "Batches:   0%|          | 0/1 [00:00<?, ?it/s]"
      ]
     },
     "metadata": {},
     "output_type": "display_data"
    },
    {
     "data": {
      "application/vnd.jupyter.widget-view+json": {
       "model_id": "35910556cf0745fe9820f998d63a56a7",
       "version_major": 2,
       "version_minor": 0
      },
      "text/plain": [
       "Batches:   0%|          | 0/1 [00:00<?, ?it/s]"
      ]
     },
     "metadata": {},
     "output_type": "display_data"
    },
    {
     "data": {
      "application/vnd.jupyter.widget-view+json": {
       "model_id": "4ccb9638bd9b47f992db8ae82b1366d2",
       "version_major": 2,
       "version_minor": 0
      },
      "text/plain": [
       "Batches:   0%|          | 0/1 [00:00<?, ?it/s]"
      ]
     },
     "metadata": {},
     "output_type": "display_data"
    },
    {
     "data": {
      "application/vnd.jupyter.widget-view+json": {
       "model_id": "9e82d53afdcd47ca8b6329309de7e6b7",
       "version_major": 2,
       "version_minor": 0
      },
      "text/plain": [
       "Batches:   0%|          | 0/1 [00:00<?, ?it/s]"
      ]
     },
     "metadata": {},
     "output_type": "display_data"
    },
    {
     "data": {
      "application/vnd.jupyter.widget-view+json": {
       "model_id": "700c2d22d75646f69935f7a84826e799",
       "version_major": 2,
       "version_minor": 0
      },
      "text/plain": [
       "Batches:   0%|          | 0/1 [00:00<?, ?it/s]"
      ]
     },
     "metadata": {},
     "output_type": "display_data"
    },
    {
     "data": {
      "application/vnd.jupyter.widget-view+json": {
       "model_id": "ce1496edfce34225b1bb20209556cfe0",
       "version_major": 2,
       "version_minor": 0
      },
      "text/plain": [
       "Batches:   0%|          | 0/1 [00:00<?, ?it/s]"
      ]
     },
     "metadata": {},
     "output_type": "display_data"
    },
    {
     "data": {
      "application/vnd.jupyter.widget-view+json": {
       "model_id": "c99c14a4be054061afaccca5164a0484",
       "version_major": 2,
       "version_minor": 0
      },
      "text/plain": [
       "Batches:   0%|          | 0/1 [00:00<?, ?it/s]"
      ]
     },
     "metadata": {},
     "output_type": "display_data"
    },
    {
     "data": {
      "application/vnd.jupyter.widget-view+json": {
       "model_id": "fb63badacefa420dadff4180369086b5",
       "version_major": 2,
       "version_minor": 0
      },
      "text/plain": [
       "Batches:   0%|          | 0/1 [00:00<?, ?it/s]"
      ]
     },
     "metadata": {},
     "output_type": "display_data"
    },
    {
     "data": {
      "application/vnd.jupyter.widget-view+json": {
       "model_id": "a6b61ef4ad3e4854b088284d4c312523",
       "version_major": 2,
       "version_minor": 0
      },
      "text/plain": [
       "Batches:   0%|          | 0/1 [00:00<?, ?it/s]"
      ]
     },
     "metadata": {},
     "output_type": "display_data"
    },
    {
     "data": {
      "application/vnd.jupyter.widget-view+json": {
       "model_id": "a080a6b07f2f46aa93cd40adcae94fb4",
       "version_major": 2,
       "version_minor": 0
      },
      "text/plain": [
       "Batches:   0%|          | 0/1 [00:00<?, ?it/s]"
      ]
     },
     "metadata": {},
     "output_type": "display_data"
    },
    {
     "data": {
      "application/vnd.jupyter.widget-view+json": {
       "model_id": "529bff4659c84ad38584a36ebe75b10d",
       "version_major": 2,
       "version_minor": 0
      },
      "text/plain": [
       "Batches:   0%|          | 0/1 [00:00<?, ?it/s]"
      ]
     },
     "metadata": {},
     "output_type": "display_data"
    },
    {
     "data": {
      "application/vnd.jupyter.widget-view+json": {
       "model_id": "70d3fca2470647eb9b5e9f64fe0620f6",
       "version_major": 2,
       "version_minor": 0
      },
      "text/plain": [
       "Batches:   0%|          | 0/1 [00:00<?, ?it/s]"
      ]
     },
     "metadata": {},
     "output_type": "display_data"
    },
    {
     "data": {
      "application/vnd.jupyter.widget-view+json": {
       "model_id": "07d1850b033c4dc8ba4383c0d992d235",
       "version_major": 2,
       "version_minor": 0
      },
      "text/plain": [
       "Batches:   0%|          | 0/1 [00:00<?, ?it/s]"
      ]
     },
     "metadata": {},
     "output_type": "display_data"
    },
    {
     "data": {
      "application/vnd.jupyter.widget-view+json": {
       "model_id": "a6b97a3d35d943b48245c4472147cc01",
       "version_major": 2,
       "version_minor": 0
      },
      "text/plain": [
       "Batches:   0%|          | 0/1 [00:00<?, ?it/s]"
      ]
     },
     "metadata": {},
     "output_type": "display_data"
    },
    {
     "data": {
      "application/vnd.jupyter.widget-view+json": {
       "model_id": "367413d192e44602a3784527c690ecb6",
       "version_major": 2,
       "version_minor": 0
      },
      "text/plain": [
       "Batches:   0%|          | 0/1 [00:00<?, ?it/s]"
      ]
     },
     "metadata": {},
     "output_type": "display_data"
    },
    {
     "data": {
      "application/vnd.jupyter.widget-view+json": {
       "model_id": "68ae8b983a174e168dd130bb812c3f8c",
       "version_major": 2,
       "version_minor": 0
      },
      "text/plain": [
       "Batches:   0%|          | 0/1 [00:00<?, ?it/s]"
      ]
     },
     "metadata": {},
     "output_type": "display_data"
    },
    {
     "name": "stdout",
     "output_type": "stream",
     "text": [
      "Top 3 matches for 'नरेंद्र मोदी का जन्म कहाँ हुआ था और उनके परिवार की क्या पृष्ठभूमि थी?':\n",
      "  1. 'अपने माता-पिता की कुल छ: सन्तानों में तीसरे पुत्र नरेन्द्र ने बचपन में रेलवे स्टेशन पर चाय बेचने में अपने पिता का भी हाथ बँटाया। बड़नगर के ही एक स्कूल मास्टर के अनुसार नरेन्द्र हालाँकि एक औसत दर्ज़े का छात्र था, लेकिन वाद-विवाद और नाटक प्रतियोगिताओं में उसकी बेहद रुचि थी। इसके अलावा उसकी रुचि राजनीतिक विषयों पर नयी-नयी परियोजनाएँ प्रारम्भ करने की भी थी।' with similarity 0.8000470995903015\n",
      "  2. 'नरेन्द्र मोदी का जन्म तत्कालीन बॉम्बे राज्य के महेसाना जिला स्थित वडनगर ग्राम में हीराबेन मोदी और दामोदरदास मूलचन्द मोदी के एक मध्यम-वर्गीय परिवार में १७ सितम्बर १९५० को हुआ था।[ वह पैदा हुए छह बच्चों में तीसरे थे। मोदी का परिवार 'मोध-घांची-तेली' समुदाय से था, जिसे भारत सरकार द्वारा अन्य पिछड़ा वर्ग के रूप में वर्गीकृत किया जाता है। वह पूर्णत: शाकाहारी हैं। भारत पाकिस्तान के बीच द्वितीय युद्ध के दौरान अपने तरुणकाल में उन्होंने स्वेच्छा से रेलवे स्टेशनों पर सफ़र कर रहे सैनिकों की सेवा की। युवावस्था में वह छात्र संगठन अखिल भारतीय विद्यार्थी परिषद में शामिल हुए | ' with similarity 0.7499057054519653\n",
      "  3. '13 वर्ष की आयु में नरेन्द्र की सगाई जसोदा बेन चमनलाल के साथ कर दी गयी और जब उनका विवाह हुआ, तब वह मात्र 17 वर्ष के थे। फाइनेंशियल एक्सप्रेस की एक खबर के अनुसार पति-पत्नी ने कुछ वर्ष साथ रहकर बिताये। परन्तु कुछ समय बाद वे दोनों एक दूसरे के लिये अजनबी हो गये क्योंकि नरेन्द्र मोदी ने उनसे कुछ ऐसी ही इच्छा व्यक्त की थी।जबकि नरेन्द्र मोदी के जीवनी-लेखक ऐसा नहीं मानते। उनका कहना है:' with similarity 0.7324526309967041\n",
      "\n",
      "Top 3 matches for 'द्वितीय भारत-पाकिस्तान युद्ध के दौरान नरेंद्र मोदी ने कैसे योगदान दिया था?':\n",
      "  1. 'नरेन्द्र मोदी का जन्म तत्कालीन बॉम्बे राज्य के महेसाना जिला स्थित वडनगर ग्राम में हीराबेन मोदी और दामोदरदास मूलचन्द मोदी के एक मध्यम-वर्गीय परिवार में १७ सितम्बर १९५० को हुआ था।[ वह पैदा हुए छह बच्चों में तीसरे थे। मोदी का परिवार 'मोध-घांची-तेली' समुदाय से था, जिसे भारत सरकार द्वारा अन्य पिछड़ा वर्ग के रूप में वर्गीकृत किया जाता है। वह पूर्णत: शाकाहारी हैं। भारत पाकिस्तान के बीच द्वितीय युद्ध के दौरान अपने तरुणकाल में उन्होंने स्वेच्छा से रेलवे स्टेशनों पर सफ़र कर रहे सैनिकों की सेवा की। युवावस्था में वह छात्र संगठन अखिल भारतीय विद्यार्थी परिषद में शामिल हुए | ' with similarity 0.8205020427703857\n",
      "  2. 'उन्होंने साथ ही साथ भ्रष्टाचार विरोधी नव निर्माण आन्दोलन में हिस्सा लिया। एक पूर्णकालिक आयोजक के रूप में कार्य करने के पश्चात् उन्हें भारतीय जनता पार्टी में संगठन का प्रतिनिधि मनोनीत किया गया।  किशोरावस्था में अपने भाई के साथ एक चाय की दुकान चला चुके मोदी ने अपनी स्कूली शिक्षा वड़नगर में पूरी की।[28] उन्होंने आरएसएस के प्रचारक रहते हुए 1980 में गुजरात विश्वविद्यालय से राजनीति विज्ञान में स्नातकोत्तर परीक्षा दी और विज्ञान स्नातकोत्तर की डिग्री प्राप्त की।' with similarity 0.770226776599884\n",
      "  3. 'उन दोनों की शादी जरूर हुई परन्तु वे दोनों एक साथ कभी नहीं रहे। शादी के कुछ बरसों बाद नरेन्द्र मोदी ने घर त्याग दिया और एक प्रकार से उनका वैवाहिक जीवन लगभग समाप्त-सा ही हो गया।,पिछले चार विधान सभा चुनावों में अपनी वैवाहिक स्थिति पर खामोश रहने के बाद नरेन्द्र मोदी ने कहा कि अविवाहित रहने की जानकारी देकर उन्होंने कोई पाप नहीं किया। नरेन्द्र मोदी के मुताबिक एक शादीशुदा के मुकाबले अविवाहित व्यक्ति भ्रष्टाचार के ख़िलाफ़ जोरदार तरीके से लड़ सकता है क्योंकि उसे अपनी पत्नी, परिवार व बालबच्चों की कोई चिन्ता नहीं रहती।[ हालांकि नरेन्द्र मोदी ने शपथ पत्र प्रस्तुत कर जसोदाबेन को अपनी पत्नी स्वीकार किया है।' with similarity 0.7239978313446045\n",
      "\n",
      "Top 3 matches for 'नरेंद्र मोदी का शैक्षिक पृष्ठभूमि और पहले करियर क्या था?':\n",
      "  1. 'नरेन्द्र मोदी का जन्म तत्कालीन बॉम्बे राज्य के महेसाना जिला स्थित वडनगर ग्राम में हीराबेन मोदी और दामोदरदास मूलचन्द मोदी के एक मध्यम-वर्गीय परिवार में १७ सितम्बर १९५० को हुआ था।[ वह पैदा हुए छह बच्चों में तीसरे थे। मोदी का परिवार 'मोध-घांची-तेली' समुदाय से था, जिसे भारत सरकार द्वारा अन्य पिछड़ा वर्ग के रूप में वर्गीकृत किया जाता है। वह पूर्णत: शाकाहारी हैं। भारत पाकिस्तान के बीच द्वितीय युद्ध के दौरान अपने तरुणकाल में उन्होंने स्वेच्छा से रेलवे स्टेशनों पर सफ़र कर रहे सैनिकों की सेवा की। युवावस्था में वह छात्र संगठन अखिल भारतीय विद्यार्थी परिषद में शामिल हुए | ' with similarity 0.8133083581924438\n",
      "  2. 'उन्होंने साथ ही साथ भ्रष्टाचार विरोधी नव निर्माण आन्दोलन में हिस्सा लिया। एक पूर्णकालिक आयोजक के रूप में कार्य करने के पश्चात् उन्हें भारतीय जनता पार्टी में संगठन का प्रतिनिधि मनोनीत किया गया।  किशोरावस्था में अपने भाई के साथ एक चाय की दुकान चला चुके मोदी ने अपनी स्कूली शिक्षा वड़नगर में पूरी की।[28] उन्होंने आरएसएस के प्रचारक रहते हुए 1980 में गुजरात विश्वविद्यालय से राजनीति विज्ञान में स्नातकोत्तर परीक्षा दी और विज्ञान स्नातकोत्तर की डिग्री प्राप्त की।' with similarity 0.7397935390472412\n",
      "  3. '13 वर्ष की आयु में नरेन्द्र की सगाई जसोदा बेन चमनलाल के साथ कर दी गयी और जब उनका विवाह हुआ, तब वह मात्र 17 वर्ष के थे। फाइनेंशियल एक्सप्रेस की एक खबर के अनुसार पति-पत्नी ने कुछ वर्ष साथ रहकर बिताये। परन्तु कुछ समय बाद वे दोनों एक दूसरे के लिये अजनबी हो गये क्योंकि नरेन्द्र मोदी ने उनसे कुछ ऐसी ही इच्छा व्यक्त की थी।जबकि नरेन्द्र मोदी के जीवनी-लेखक ऐसा नहीं मानते। उनका कहना है:' with similarity 0.7330445051193237\n",
      "\n",
      "Top 3 matches for 'नरेंद्र मोदी ने 17 वर्ष की आयु में किससे विवाह किया था और उनके संबंध में बाद में क्या हुआ?':\n",
      "  1. '13 वर्ष की आयु में नरेन्द्र की सगाई जसोदा बेन चमनलाल के साथ कर दी गयी और जब उनका विवाह हुआ, तब वह मात्र 17 वर्ष के थे। फाइनेंशियल एक्सप्रेस की एक खबर के अनुसार पति-पत्नी ने कुछ वर्ष साथ रहकर बिताये। परन्तु कुछ समय बाद वे दोनों एक दूसरे के लिये अजनबी हो गये क्योंकि नरेन्द्र मोदी ने उनसे कुछ ऐसी ही इच्छा व्यक्त की थी।जबकि नरेन्द्र मोदी के जीवनी-लेखक ऐसा नहीं मानते। उनका कहना है:' with similarity 0.8702760934829712\n",
      "  2. 'अपने माता-पिता की कुल छ: सन्तानों में तीसरे पुत्र नरेन्द्र ने बचपन में रेलवे स्टेशन पर चाय बेचने में अपने पिता का भी हाथ बँटाया। बड़नगर के ही एक स्कूल मास्टर के अनुसार नरेन्द्र हालाँकि एक औसत दर्ज़े का छात्र था, लेकिन वाद-विवाद और नाटक प्रतियोगिताओं में उसकी बेहद रुचि थी। इसके अलावा उसकी रुचि राजनीतिक विषयों पर नयी-नयी परियोजनाएँ प्रारम्भ करने की भी थी।' with similarity 0.8379632234573364\n",
      "  3. 'नरेन्द्र मोदी का जन्म तत्कालीन बॉम्बे राज्य के महेसाना जिला स्थित वडनगर ग्राम में हीराबेन मोदी और दामोदरदास मूलचन्द मोदी के एक मध्यम-वर्गीय परिवार में १७ सितम्बर १९५० को हुआ था।[ वह पैदा हुए छह बच्चों में तीसरे थे। मोदी का परिवार 'मोध-घांची-तेली' समुदाय से था, जिसे भारत सरकार द्वारा अन्य पिछड़ा वर्ग के रूप में वर्गीकृत किया जाता है। वह पूर्णत: शाकाहारी हैं। भारत पाकिस्तान के बीच द्वितीय युद्ध के दौरान अपने तरुणकाल में उन्होंने स्वेच्छा से रेलवे स्टेशनों पर सफ़र कर रहे सैनिकों की सेवा की। युवावस्था में वह छात्र संगठन अखिल भारतीय विद्यार्थी परिषद में शामिल हुए | ' with similarity 0.7558541297912598\n",
      "\n",
      "Top 3 matches for 'नरेंद्र मोदी अपनी वैवाहिक स्थिति को अपने भ्रष्टाचार विरुद्ध लड़ाई से कैसे जोड़ते हैं?':\n",
      "  1. 'उन्होंने साथ ही साथ भ्रष्टाचार विरोधी नव निर्माण आन्दोलन में हिस्सा लिया। एक पूर्णकालिक आयोजक के रूप में कार्य करने के पश्चात् उन्हें भारतीय जनता पार्टी में संगठन का प्रतिनिधि मनोनीत किया गया।  किशोरावस्था में अपने भाई के साथ एक चाय की दुकान चला चुके मोदी ने अपनी स्कूली शिक्षा वड़नगर में पूरी की।[28] उन्होंने आरएसएस के प्रचारक रहते हुए 1980 में गुजरात विश्वविद्यालय से राजनीति विज्ञान में स्नातकोत्तर परीक्षा दी और विज्ञान स्नातकोत्तर की डिग्री प्राप्त की।' with similarity 0.7228643894195557\n",
      "  2. 'उन दोनों की शादी जरूर हुई परन्तु वे दोनों एक साथ कभी नहीं रहे। शादी के कुछ बरसों बाद नरेन्द्र मोदी ने घर त्याग दिया और एक प्रकार से उनका वैवाहिक जीवन लगभग समाप्त-सा ही हो गया।,पिछले चार विधान सभा चुनावों में अपनी वैवाहिक स्थिति पर खामोश रहने के बाद नरेन्द्र मोदी ने कहा कि अविवाहित रहने की जानकारी देकर उन्होंने कोई पाप नहीं किया। नरेन्द्र मोदी के मुताबिक एक शादीशुदा के मुकाबले अविवाहित व्यक्ति भ्रष्टाचार के ख़िलाफ़ जोरदार तरीके से लड़ सकता है क्योंकि उसे अपनी पत्नी, परिवार व बालबच्चों की कोई चिन्ता नहीं रहती।[ हालांकि नरेन्द्र मोदी ने शपथ पत्र प्रस्तुत कर जसोदाबेन को अपनी पत्नी स्वीकार किया है।' with similarity 0.5571027994155884\n",
      "  3. 'नरेन्द्र मोदी का जन्म तत्कालीन बॉम्बे राज्य के महेसाना जिला स्थित वडनगर ग्राम में हीराबेन मोदी और दामोदरदास मूलचन्द मोदी के एक मध्यम-वर्गीय परिवार में १७ सितम्बर १९५० को हुआ था।[ वह पैदा हुए छह बच्चों में तीसरे थे। मोदी का परिवार 'मोध-घांची-तेली' समुदाय से था, जिसे भारत सरकार द्वारा अन्य पिछड़ा वर्ग के रूप में वर्गीकृत किया जाता है। वह पूर्णत: शाकाहारी हैं। भारत पाकिस्तान के बीच द्वितीय युद्ध के दौरान अपने तरुणकाल में उन्होंने स्वेच्छा से रेलवे स्टेशनों पर सफ़र कर रहे सैनिकों की सेवा की। युवावस्था में वह छात्र संगठन अखिल भारतीय विद्यार्थी परिषद में शामिल हुए | ' with similarity 0.514091968536377\n",
      "\n"
     ]
    }
   ],
   "source": [
    "top_matches = find_top_matches(source_sentences, target_sentences, top_n=3)\n",
    "\n",
    "# Print the top 3 matches for each source sentence\n",
    "for src_sent, matches in top_matches.items():\n",
    "    print(f\"Top 3 matches for '{src_sent}':\")\n",
    "    for idx, (match_sent, similarity) in enumerate(matches, 1):\n",
    "        print(f\"  {idx}. '{match_sent}' with similarity {similarity}\")\n",
    "    print()"
   ]
  },
  {
   "cell_type": "code",
   "execution_count": null,
   "id": "5784433c",
   "metadata": {},
   "outputs": [],
   "source": []
  }
 ],
 "metadata": {
  "kernelspec": {
   "display_name": "Python 3 (ipykernel)",
   "language": "python",
   "name": "python3"
  },
  "language_info": {
   "codemirror_mode": {
    "name": "ipython",
    "version": 3
   },
   "file_extension": ".py",
   "mimetype": "text/x-python",
   "name": "python",
   "nbconvert_exporter": "python",
   "pygments_lexer": "ipython3",
   "version": "3.11.5"
  }
 },
 "nbformat": 4,
 "nbformat_minor": 5
}
